{
 "cells": [
  {
   "cell_type": "markdown",
   "metadata": {},
   "source": [
    "# Code"
   ]
  },
  {
   "cell_type": "code",
   "execution_count": 124,
   "metadata": {
    "collapsed": false
   },
   "outputs": [],
   "source": [
    "library(magrittr)\n",
    "hospitals = read.csv(\"hospital-data.csv\")\n",
    "outcomes = read.csv(\"outcome-of-care-measures.csv\", colClasses=\"character\", na.strings=\"Not Available\")"
   ]
  },
  {
   "cell_type": "code",
   "execution_count": 125,
   "metadata": {
    "collapsed": false
   },
   "outputs": [
    {
     "data": {
      "text/html": [
       "<ol class=list-inline>\n",
       "\t<li>4706</li>\n",
       "\t<li>46</li>\n",
       "</ol>\n"
      ],
      "text/latex": [
       "\\begin{enumerate*}\n",
       "\\item 4706\n",
       "\\item 46\n",
       "\\end{enumerate*}\n"
      ],
      "text/markdown": [
       "1. 4706\n",
       "2. 46\n",
       "\n",
       "\n"
      ],
      "text/plain": [
       "[1] 4706   46"
      ]
     },
     "execution_count": 125,
     "metadata": {},
     "output_type": "execute_result"
    },
    {
     "data": {
      "text/html": [
       "<table>\n",
       "<tbody>\n",
       "\t<tr><td>Provider.Number</td></tr>\n",
       "\t<tr><td>Hospital.Name</td></tr>\n",
       "\t<tr><td>Address.1</td></tr>\n",
       "\t<tr><td>Address.2</td></tr>\n",
       "\t<tr><td>Address.3</td></tr>\n",
       "\t<tr><td>City</td></tr>\n",
       "\t<tr><td>State</td></tr>\n",
       "\t<tr><td>ZIP.Code</td></tr>\n",
       "\t<tr><td>County.Name</td></tr>\n",
       "\t<tr><td>Phone.Number</td></tr>\n",
       "\t<tr><td>Hospital.30.Day.Death..Mortality..Rates.from.Heart.Attack</td></tr>\n",
       "\t<tr><td>Comparison.to.U.S..Rate...Hospital.30.Day.Death..Mortality..Rates.from.Heart.Attack</td></tr>\n",
       "\t<tr><td>Lower.Mortality.Estimate...Hospital.30.Day.Death..Mortality..Rates.from.Heart.Attack</td></tr>\n",
       "\t<tr><td>Upper.Mortality.Estimate...Hospital.30.Day.Death..Mortality..Rates.from.Heart.Attack</td></tr>\n",
       "\t<tr><td>Number.of.Patients...Hospital.30.Day.Death..Mortality..Rates.from.Heart.Attack</td></tr>\n",
       "\t<tr><td>Footnote...Hospital.30.Day.Death..Mortality..Rates.from.Heart.Attack</td></tr>\n",
       "\t<tr><td>Hospital.30.Day.Death..Mortality..Rates.from.Heart.Failure</td></tr>\n",
       "\t<tr><td>Comparison.to.U.S..Rate...Hospital.30.Day.Death..Mortality..Rates.from.Heart.Failure</td></tr>\n",
       "\t<tr><td>Lower.Mortality.Estimate...Hospital.30.Day.Death..Mortality..Rates.from.Heart.Failure</td></tr>\n",
       "\t<tr><td>Upper.Mortality.Estimate...Hospital.30.Day.Death..Mortality..Rates.from.Heart.Failure</td></tr>\n",
       "\t<tr><td>Number.of.Patients...Hospital.30.Day.Death..Mortality..Rates.from.Heart.Failure</td></tr>\n",
       "\t<tr><td>Footnote...Hospital.30.Day.Death..Mortality..Rates.from.Heart.Failure</td></tr>\n",
       "\t<tr><td>Hospital.30.Day.Death..Mortality..Rates.from.Pneumonia</td></tr>\n",
       "\t<tr><td>Comparison.to.U.S..Rate...Hospital.30.Day.Death..Mortality..Rates.from.Pneumonia</td></tr>\n",
       "\t<tr><td>Lower.Mortality.Estimate...Hospital.30.Day.Death..Mortality..Rates.from.Pneumonia</td></tr>\n",
       "\t<tr><td>Upper.Mortality.Estimate...Hospital.30.Day.Death..Mortality..Rates.from.Pneumonia</td></tr>\n",
       "\t<tr><td>Number.of.Patients...Hospital.30.Day.Death..Mortality..Rates.from.Pneumonia</td></tr>\n",
       "\t<tr><td>Footnote...Hospital.30.Day.Death..Mortality..Rates.from.Pneumonia</td></tr>\n",
       "\t<tr><td>Hospital.30.Day.Readmission.Rates.from.Heart.Attack</td></tr>\n",
       "\t<tr><td>Comparison.to.U.S..Rate...Hospital.30.Day.Readmission.Rates.from.Heart.Attack</td></tr>\n",
       "\t<tr><td>Lower.Readmission.Estimate...Hospital.30.Day.Readmission.Rates.from.Heart.Attack</td></tr>\n",
       "\t<tr><td>Upper.Readmission.Estimate...Hospital.30.Day.Readmission.Rates.from.Heart.Attack</td></tr>\n",
       "\t<tr><td>Number.of.Patients...Hospital.30.Day.Readmission.Rates.from.Heart.Attack</td></tr>\n",
       "\t<tr><td>Footnote...Hospital.30.Day.Readmission.Rates.from.Heart.Attack</td></tr>\n",
       "\t<tr><td>Hospital.30.Day.Readmission.Rates.from.Heart.Failure</td></tr>\n",
       "\t<tr><td>Comparison.to.U.S..Rate...Hospital.30.Day.Readmission.Rates.from.Heart.Failure</td></tr>\n",
       "\t<tr><td>Lower.Readmission.Estimate...Hospital.30.Day.Readmission.Rates.from.Heart.Failure</td></tr>\n",
       "\t<tr><td>Upper.Readmission.Estimate...Hospital.30.Day.Readmission.Rates.from.Heart.Failure</td></tr>\n",
       "\t<tr><td>Number.of.Patients...Hospital.30.Day.Readmission.Rates.from.Heart.Failure</td></tr>\n",
       "\t<tr><td>Footnote...Hospital.30.Day.Readmission.Rates.from.Heart.Failure</td></tr>\n",
       "\t<tr><td>Hospital.30.Day.Readmission.Rates.from.Pneumonia</td></tr>\n",
       "\t<tr><td>Comparison.to.U.S..Rate...Hospital.30.Day.Readmission.Rates.from.Pneumonia</td></tr>\n",
       "\t<tr><td>Lower.Readmission.Estimate...Hospital.30.Day.Readmission.Rates.from.Pneumonia</td></tr>\n",
       "\t<tr><td>Upper.Readmission.Estimate...Hospital.30.Day.Readmission.Rates.from.Pneumonia</td></tr>\n",
       "\t<tr><td>Number.of.Patients...Hospital.30.Day.Readmission.Rates.from.Pneumonia</td></tr>\n",
       "\t<tr><td>Footnote...Hospital.30.Day.Readmission.Rates.from.Pneumonia</td></tr>\n",
       "</tbody>\n",
       "</table>\n"
      ],
      "text/latex": [
       "\\begin{tabular}{l}\n",
       "\t Provider.Number\\\\\n",
       "\t Hospital.Name\\\\\n",
       "\t Address.1\\\\\n",
       "\t Address.2\\\\\n",
       "\t Address.3\\\\\n",
       "\t City\\\\\n",
       "\t State\\\\\n",
       "\t ZIP.Code\\\\\n",
       "\t County.Name\\\\\n",
       "\t Phone.Number\\\\\n",
       "\t Hospital.30.Day.Death..Mortality..Rates.from.Heart.Attack\\\\\n",
       "\t Comparison.to.U.S..Rate...Hospital.30.Day.Death..Mortality..Rates.from.Heart.Attack\\\\\n",
       "\t Lower.Mortality.Estimate...Hospital.30.Day.Death..Mortality..Rates.from.Heart.Attack\\\\\n",
       "\t Upper.Mortality.Estimate...Hospital.30.Day.Death..Mortality..Rates.from.Heart.Attack\\\\\n",
       "\t Number.of.Patients...Hospital.30.Day.Death..Mortality..Rates.from.Heart.Attack\\\\\n",
       "\t Footnote...Hospital.30.Day.Death..Mortality..Rates.from.Heart.Attack\\\\\n",
       "\t Hospital.30.Day.Death..Mortality..Rates.from.Heart.Failure\\\\\n",
       "\t Comparison.to.U.S..Rate...Hospital.30.Day.Death..Mortality..Rates.from.Heart.Failure\\\\\n",
       "\t Lower.Mortality.Estimate...Hospital.30.Day.Death..Mortality..Rates.from.Heart.Failure\\\\\n",
       "\t Upper.Mortality.Estimate...Hospital.30.Day.Death..Mortality..Rates.from.Heart.Failure\\\\\n",
       "\t Number.of.Patients...Hospital.30.Day.Death..Mortality..Rates.from.Heart.Failure\\\\\n",
       "\t Footnote...Hospital.30.Day.Death..Mortality..Rates.from.Heart.Failure\\\\\n",
       "\t Hospital.30.Day.Death..Mortality..Rates.from.Pneumonia\\\\\n",
       "\t Comparison.to.U.S..Rate...Hospital.30.Day.Death..Mortality..Rates.from.Pneumonia\\\\\n",
       "\t Lower.Mortality.Estimate...Hospital.30.Day.Death..Mortality..Rates.from.Pneumonia\\\\\n",
       "\t Upper.Mortality.Estimate...Hospital.30.Day.Death..Mortality..Rates.from.Pneumonia\\\\\n",
       "\t Number.of.Patients...Hospital.30.Day.Death..Mortality..Rates.from.Pneumonia\\\\\n",
       "\t Footnote...Hospital.30.Day.Death..Mortality..Rates.from.Pneumonia\\\\\n",
       "\t Hospital.30.Day.Readmission.Rates.from.Heart.Attack\\\\\n",
       "\t Comparison.to.U.S..Rate...Hospital.30.Day.Readmission.Rates.from.Heart.Attack\\\\\n",
       "\t Lower.Readmission.Estimate...Hospital.30.Day.Readmission.Rates.from.Heart.Attack\\\\\n",
       "\t Upper.Readmission.Estimate...Hospital.30.Day.Readmission.Rates.from.Heart.Attack\\\\\n",
       "\t Number.of.Patients...Hospital.30.Day.Readmission.Rates.from.Heart.Attack\\\\\n",
       "\t Footnote...Hospital.30.Day.Readmission.Rates.from.Heart.Attack\\\\\n",
       "\t Hospital.30.Day.Readmission.Rates.from.Heart.Failure\\\\\n",
       "\t Comparison.to.U.S..Rate...Hospital.30.Day.Readmission.Rates.from.Heart.Failure\\\\\n",
       "\t Lower.Readmission.Estimate...Hospital.30.Day.Readmission.Rates.from.Heart.Failure\\\\\n",
       "\t Upper.Readmission.Estimate...Hospital.30.Day.Readmission.Rates.from.Heart.Failure\\\\\n",
       "\t Number.of.Patients...Hospital.30.Day.Readmission.Rates.from.Heart.Failure\\\\\n",
       "\t Footnote...Hospital.30.Day.Readmission.Rates.from.Heart.Failure\\\\\n",
       "\t Hospital.30.Day.Readmission.Rates.from.Pneumonia\\\\\n",
       "\t Comparison.to.U.S..Rate...Hospital.30.Day.Readmission.Rates.from.Pneumonia\\\\\n",
       "\t Lower.Readmission.Estimate...Hospital.30.Day.Readmission.Rates.from.Pneumonia\\\\\n",
       "\t Upper.Readmission.Estimate...Hospital.30.Day.Readmission.Rates.from.Pneumonia\\\\\n",
       "\t Number.of.Patients...Hospital.30.Day.Readmission.Rates.from.Pneumonia\\\\\n",
       "\t Footnote...Hospital.30.Day.Readmission.Rates.from.Pneumonia\\\\\n",
       "\\end{tabular}\n"
      ],
      "text/markdown": [
       "1. 'Provider.Number'\n",
       "2. 'Hospital.Name'\n",
       "3. 'Address.1'\n",
       "4. 'Address.2'\n",
       "5. 'Address.3'\n",
       "6. 'City'\n",
       "7. 'State'\n",
       "8. 'ZIP.Code'\n",
       "9. 'County.Name'\n",
       "10. 'Phone.Number'\n",
       "11. 'Hospital.30.Day.Death..Mortality..Rates.from.Heart.Attack'\n",
       "12. 'Comparison.to.U.S..Rate...Hospital.30.Day.Death..Mortality..Rates.from.Heart.Attack'\n",
       "13. 'Lower.Mortality.Estimate...Hospital.30.Day.Death..Mortality..Rates.from.Heart.Attack'\n",
       "14. 'Upper.Mortality.Estimate...Hospital.30.Day.Death..Mortality..Rates.from.Heart.Attack'\n",
       "15. 'Number.of.Patients...Hospital.30.Day.Death..Mortality..Rates.from.Heart.Attack'\n",
       "16. 'Footnote...Hospital.30.Day.Death..Mortality..Rates.from.Heart.Attack'\n",
       "17. 'Hospital.30.Day.Death..Mortality..Rates.from.Heart.Failure'\n",
       "18. 'Comparison.to.U.S..Rate...Hospital.30.Day.Death..Mortality..Rates.from.Heart.Failure'\n",
       "19. 'Lower.Mortality.Estimate...Hospital.30.Day.Death..Mortality..Rates.from.Heart.Failure'\n",
       "20. 'Upper.Mortality.Estimate...Hospital.30.Day.Death..Mortality..Rates.from.Heart.Failure'\n",
       "21. 'Number.of.Patients...Hospital.30.Day.Death..Mortality..Rates.from.Heart.Failure'\n",
       "22. 'Footnote...Hospital.30.Day.Death..Mortality..Rates.from.Heart.Failure'\n",
       "23. 'Hospital.30.Day.Death..Mortality..Rates.from.Pneumonia'\n",
       "24. 'Comparison.to.U.S..Rate...Hospital.30.Day.Death..Mortality..Rates.from.Pneumonia'\n",
       "25. 'Lower.Mortality.Estimate...Hospital.30.Day.Death..Mortality..Rates.from.Pneumonia'\n",
       "26. 'Upper.Mortality.Estimate...Hospital.30.Day.Death..Mortality..Rates.from.Pneumonia'\n",
       "27. 'Number.of.Patients...Hospital.30.Day.Death..Mortality..Rates.from.Pneumonia'\n",
       "28. 'Footnote...Hospital.30.Day.Death..Mortality..Rates.from.Pneumonia'\n",
       "29. 'Hospital.30.Day.Readmission.Rates.from.Heart.Attack'\n",
       "30. 'Comparison.to.U.S..Rate...Hospital.30.Day.Readmission.Rates.from.Heart.Attack'\n",
       "31. 'Lower.Readmission.Estimate...Hospital.30.Day.Readmission.Rates.from.Heart.Attack'\n",
       "32. 'Upper.Readmission.Estimate...Hospital.30.Day.Readmission.Rates.from.Heart.Attack'\n",
       "33. 'Number.of.Patients...Hospital.30.Day.Readmission.Rates.from.Heart.Attack'\n",
       "34. 'Footnote...Hospital.30.Day.Readmission.Rates.from.Heart.Attack'\n",
       "35. 'Hospital.30.Day.Readmission.Rates.from.Heart.Failure'\n",
       "36. 'Comparison.to.U.S..Rate...Hospital.30.Day.Readmission.Rates.from.Heart.Failure'\n",
       "37. 'Lower.Readmission.Estimate...Hospital.30.Day.Readmission.Rates.from.Heart.Failure'\n",
       "38. 'Upper.Readmission.Estimate...Hospital.30.Day.Readmission.Rates.from.Heart.Failure'\n",
       "39. 'Number.of.Patients...Hospital.30.Day.Readmission.Rates.from.Heart.Failure'\n",
       "40. 'Footnote...Hospital.30.Day.Readmission.Rates.from.Heart.Failure'\n",
       "41. 'Hospital.30.Day.Readmission.Rates.from.Pneumonia'\n",
       "42. 'Comparison.to.U.S..Rate...Hospital.30.Day.Readmission.Rates.from.Pneumonia'\n",
       "43. 'Lower.Readmission.Estimate...Hospital.30.Day.Readmission.Rates.from.Pneumonia'\n",
       "44. 'Upper.Readmission.Estimate...Hospital.30.Day.Readmission.Rates.from.Pneumonia'\n",
       "45. 'Number.of.Patients...Hospital.30.Day.Readmission.Rates.from.Pneumonia'\n",
       "46. 'Footnote...Hospital.30.Day.Readmission.Rates.from.Pneumonia'\n",
       "\n",
       "\n"
      ],
      "text/plain": [
       "      [,1]                                                                                   \n",
       " [1,] \"Provider.Number\"                                                                      \n",
       " [2,] \"Hospital.Name\"                                                                        \n",
       " [3,] \"Address.1\"                                                                            \n",
       " [4,] \"Address.2\"                                                                            \n",
       " [5,] \"Address.3\"                                                                            \n",
       " [6,] \"City\"                                                                                 \n",
       " [7,] \"State\"                                                                                \n",
       " [8,] \"ZIP.Code\"                                                                             \n",
       " [9,] \"County.Name\"                                                                          \n",
       "[10,] \"Phone.Number\"                                                                         \n",
       "[11,] \"Hospital.30.Day.Death..Mortality..Rates.from.Heart.Attack\"                            \n",
       "[12,] \"Comparison.to.U.S..Rate...Hospital.30.Day.Death..Mortality..Rates.from.Heart.Attack\"  \n",
       "[13,] \"Lower.Mortality.Estimate...Hospital.30.Day.Death..Mortality..Rates.from.Heart.Attack\" \n",
       "[14,] \"Upper.Mortality.Estimate...Hospital.30.Day.Death..Mortality..Rates.from.Heart.Attack\" \n",
       "[15,] \"Number.of.Patients...Hospital.30.Day.Death..Mortality..Rates.from.Heart.Attack\"       \n",
       "[16,] \"Footnote...Hospital.30.Day.Death..Mortality..Rates.from.Heart.Attack\"                 \n",
       "[17,] \"Hospital.30.Day.Death..Mortality..Rates.from.Heart.Failure\"                           \n",
       "[18,] \"Comparison.to.U.S..Rate...Hospital.30.Day.Death..Mortality..Rates.from.Heart.Failure\" \n",
       "[19,] \"Lower.Mortality.Estimate...Hospital.30.Day.Death..Mortality..Rates.from.Heart.Failure\"\n",
       "[20,] \"Upper.Mortality.Estimate...Hospital.30.Day.Death..Mortality..Rates.from.Heart.Failure\"\n",
       "[21,] \"Number.of.Patients...Hospital.30.Day.Death..Mortality..Rates.from.Heart.Failure\"      \n",
       "[22,] \"Footnote...Hospital.30.Day.Death..Mortality..Rates.from.Heart.Failure\"                \n",
       "[23,] \"Hospital.30.Day.Death..Mortality..Rates.from.Pneumonia\"                               \n",
       "[24,] \"Comparison.to.U.S..Rate...Hospital.30.Day.Death..Mortality..Rates.from.Pneumonia\"     \n",
       "[25,] \"Lower.Mortality.Estimate...Hospital.30.Day.Death..Mortality..Rates.from.Pneumonia\"    \n",
       "[26,] \"Upper.Mortality.Estimate...Hospital.30.Day.Death..Mortality..Rates.from.Pneumonia\"    \n",
       "[27,] \"Number.of.Patients...Hospital.30.Day.Death..Mortality..Rates.from.Pneumonia\"          \n",
       "[28,] \"Footnote...Hospital.30.Day.Death..Mortality..Rates.from.Pneumonia\"                    \n",
       "[29,] \"Hospital.30.Day.Readmission.Rates.from.Heart.Attack\"                                  \n",
       "[30,] \"Comparison.to.U.S..Rate...Hospital.30.Day.Readmission.Rates.from.Heart.Attack\"        \n",
       "[31,] \"Lower.Readmission.Estimate...Hospital.30.Day.Readmission.Rates.from.Heart.Attack\"     \n",
       "[32,] \"Upper.Readmission.Estimate...Hospital.30.Day.Readmission.Rates.from.Heart.Attack\"     \n",
       "[33,] \"Number.of.Patients...Hospital.30.Day.Readmission.Rates.from.Heart.Attack\"             \n",
       "[34,] \"Footnote...Hospital.30.Day.Readmission.Rates.from.Heart.Attack\"                       \n",
       "[35,] \"Hospital.30.Day.Readmission.Rates.from.Heart.Failure\"                                 \n",
       "[36,] \"Comparison.to.U.S..Rate...Hospital.30.Day.Readmission.Rates.from.Heart.Failure\"       \n",
       "[37,] \"Lower.Readmission.Estimate...Hospital.30.Day.Readmission.Rates.from.Heart.Failure\"    \n",
       "[38,] \"Upper.Readmission.Estimate...Hospital.30.Day.Readmission.Rates.from.Heart.Failure\"    \n",
       "[39,] \"Number.of.Patients...Hospital.30.Day.Readmission.Rates.from.Heart.Failure\"            \n",
       "[40,] \"Footnote...Hospital.30.Day.Readmission.Rates.from.Heart.Failure\"                      \n",
       "[41,] \"Hospital.30.Day.Readmission.Rates.from.Pneumonia\"                                     \n",
       "[42,] \"Comparison.to.U.S..Rate...Hospital.30.Day.Readmission.Rates.from.Pneumonia\"           \n",
       "[43,] \"Lower.Readmission.Estimate...Hospital.30.Day.Readmission.Rates.from.Pneumonia\"        \n",
       "[44,] \"Upper.Readmission.Estimate...Hospital.30.Day.Readmission.Rates.from.Pneumonia\"        \n",
       "[45,] \"Number.of.Patients...Hospital.30.Day.Readmission.Rates.from.Pneumonia\"                \n",
       "[46,] \"Footnote...Hospital.30.Day.Readmission.Rates.from.Pneumonia\"                          "
      ]
     },
     "execution_count": 125,
     "metadata": {},
     "output_type": "execute_result"
    }
   ],
   "source": [
    "dim(outcomes)\n",
    "colnames(outcomes) %>% as.matrix"
   ]
  },
  {
   "cell_type": "code",
   "execution_count": 126,
   "metadata": {
    "collapsed": false
   },
   "outputs": [
    {
     "data": {
      "text/html": [
       "'Hospital.30.Day.Death..Mortality..Rates.from.Heart.Attack'"
      ],
      "text/latex": [
       "'Hospital.30.Day.Death..Mortality..Rates.from.Heart.Attack'"
      ],
      "text/markdown": [
       "'Hospital.30.Day.Death..Mortality..Rates.from.Heart.Attack'"
      ],
      "text/plain": [
       "[1] \"Hospital.30.Day.Death..Mortality..Rates.from.Heart.Attack\""
      ]
     },
     "execution_count": 126,
     "metadata": {},
     "output_type": "execute_result"
    },
    {
     "data": {
      "text/html": [
       "'Hospital.30.Day.Death..Mortality..Rates.from.Heart.Failure'"
      ],
      "text/latex": [
       "'Hospital.30.Day.Death..Mortality..Rates.from.Heart.Failure'"
      ],
      "text/markdown": [
       "'Hospital.30.Day.Death..Mortality..Rates.from.Heart.Failure'"
      ],
      "text/plain": [
       "[1] \"Hospital.30.Day.Death..Mortality..Rates.from.Heart.Failure\""
      ]
     },
     "execution_count": 126,
     "metadata": {},
     "output_type": "execute_result"
    },
    {
     "data": {
      "text/html": [
       "'Hospital.30.Day.Death..Mortality..Rates.from.Pneumonia'"
      ],
      "text/latex": [
       "'Hospital.30.Day.Death..Mortality..Rates.from.Pneumonia'"
      ],
      "text/markdown": [
       "'Hospital.30.Day.Death..Mortality..Rates.from.Pneumonia'"
      ],
      "text/plain": [
       "[1] \"Hospital.30.Day.Death..Mortality..Rates.from.Pneumonia\""
      ]
     },
     "execution_count": 126,
     "metadata": {},
     "output_type": "execute_result"
    }
   ],
   "source": [
    "colnames(outcomes)[11]\n",
    "colnames(outcomes)[17]\n",
    "colnames(outcomes)[23]"
   ]
  },
  {
   "cell_type": "code",
   "execution_count": 183,
   "metadata": {
    "collapsed": false
   },
   "outputs": [
    {
     "data": {
      "text/html": [
       "<table>\n",
       "<thead><tr><th></th><th scope=col>name</th><th scope=col>state</th><th scope=col>heart attack</th><th scope=col>heart failure</th><th scope=col>pneumonia</th></tr></thead>\n",
       "<tbody>\n",
       "\t<tr><th scope=row>1</th><td>SOUTHEAST ALABAMA MEDICAL CENTER</td><td>AL</td><td>14.3</td><td>11.4</td><td>10.9</td></tr>\n",
       "\t<tr><th scope=row>2</th><td>MARSHALL MEDICAL CENTER SOUTH</td><td>AL</td><td>18.5</td><td>15.2</td><td>13.9</td></tr>\n",
       "\t<tr><th scope=row>3</th><td>ELIZA COFFEE MEMORIAL HOSPITAL</td><td>AL</td><td>18.1</td><td>11.3</td><td>13.4</td></tr>\n",
       "\t<tr><th scope=row>4</th><td>MIZELL MEMORIAL HOSPITAL</td><td>AL</td><td>NA</td><td>13.6</td><td>14.9</td></tr>\n",
       "\t<tr><th scope=row>5</th><td>CRENSHAW COMMUNITY HOSPITAL</td><td>AL</td><td>NA</td><td>13.8</td><td>15.8</td></tr>\n",
       "\t<tr><th scope=row>6</th><td>MARSHALL MEDICAL CENTER NORTH</td><td>AL</td><td>NA</td><td>12.5</td><td>8.7</td></tr>\n",
       "</tbody>\n",
       "</table>\n"
      ],
      "text/latex": [
       "\\begin{tabular}{r|lllll}\n",
       "  & name & state & heart attack & heart failure & pneumonia\\\\\n",
       "\\hline\n",
       "\t1 & SOUTHEAST ALABAMA MEDICAL CENTER & AL & 14.3 & 11.4 & 10.9\\\\\n",
       "\t2 & MARSHALL MEDICAL CENTER SOUTH & AL & 18.5 & 15.2 & 13.9\\\\\n",
       "\t3 & ELIZA COFFEE MEMORIAL HOSPITAL & AL & 18.1 & 11.3 & 13.4\\\\\n",
       "\t4 & MIZELL MEMORIAL HOSPITAL & AL & NA & 13.6 & 14.9\\\\\n",
       "\t5 & CRENSHAW COMMUNITY HOSPITAL & AL & NA & 13.8 & 15.8\\\\\n",
       "\t6 & MARSHALL MEDICAL CENTER NORTH & AL & NA & 12.5 & 8.7\\\\\n",
       "\\end{tabular}\n"
      ],
      "text/plain": [
       "                              name state heart attack heart failure pneumonia\n",
       "1 SOUTHEAST ALABAMA MEDICAL CENTER    AL         14.3          11.4      10.9\n",
       "2    MARSHALL MEDICAL CENTER SOUTH    AL         18.5          15.2      13.9\n",
       "3   ELIZA COFFEE MEMORIAL HOSPITAL    AL         18.1          11.3      13.4\n",
       "4         MIZELL MEMORIAL HOSPITAL    AL           NA          13.6      14.9\n",
       "5      CRENSHAW COMMUNITY HOSPITAL    AL           NA          13.8      15.8\n",
       "6    MARSHALL MEDICAL CENTER NORTH    AL           NA          12.5       8.7"
      ]
     },
     "execution_count": 183,
     "metadata": {},
     "output_type": "execute_result"
    },
    {
     "data": {
      "text/html": [
       "<dl class=dl-horizontal>\n",
       "\t<dt>name</dt>\n",
       "\t\t<dd>'character'</dd>\n",
       "\t<dt>state</dt>\n",
       "\t\t<dd>'factor'</dd>\n",
       "\t<dt>heart attack</dt>\n",
       "\t\t<dd>'numeric'</dd>\n",
       "\t<dt>heart failure</dt>\n",
       "\t\t<dd>'numeric'</dd>\n",
       "\t<dt>pneumonia</dt>\n",
       "\t\t<dd>'numeric'</dd>\n",
       "</dl>\n"
      ],
      "text/latex": [
       "\\begin{description*}\n",
       "\\item[name] 'character'\n",
       "\\item[state] 'factor'\n",
       "\\item[heart attack] 'numeric'\n",
       "\\item[heart failure] 'numeric'\n",
       "\\item[pneumonia] 'numeric'\n",
       "\\end{description*}\n"
      ],
      "text/markdown": [
       "name\n",
       ":   'character'state\n",
       ":   'factor'heart attack\n",
       ":   'numeric'heart failure\n",
       ":   'numeric'pneumonia\n",
       ":   'numeric'\n",
       "\n"
      ],
      "text/plain": [
       "         name         state  heart attack heart failure     pneumonia \n",
       "  \"character\"      \"factor\"     \"numeric\"     \"numeric\"     \"numeric\" "
      ]
     },
     "execution_count": 183,
     "metadata": {},
     "output_type": "execute_result"
    }
   ],
   "source": [
    "read_and_format = function(filename){\n",
    "    outcomes = read.csv(filename, colClasses=\"character\", na.strings=\"Not Available\")\n",
    "\n",
    "    outcome_red = outcomes[,c(2,7,11,17,23)]\n",
    "    colnames(outcome_red) = c(\"name\", \"state\", \"heart attack\", \"heart failure\", \"pneumonia\")\n",
    "    outcome_red[,\"state\"] = as.factor(outcome_red[,\"state\"])\n",
    "    for ( i in 3:5 ){\n",
    "        outcome_red[,i] = as.numeric(outcome_red[,i])\n",
    "    }\n",
    "    \n",
    "    outcome_red\n",
    "}\n",
    "data = read_and_format(\"outcome-of-care-measures.csv\")\n",
    "data %>% head\n",
    "data[1,] %>% sapply(., class)"
   ]
  },
  {
   "cell_type": "code",
   "execution_count": 128,
   "metadata": {
    "collapsed": false
   },
   "outputs": [
    {
     "data": {
      "image/png": "[encoded data removed]",
      "image/svg+xml": [
       "<?xml version=\"1.0\" encoding=\"UTF-8\"?>\n",
       "<svg xmlns=\"http://www.w3.org/2000/svg\" xmlns:xlink=\"http://www.w3.org/1999/xlink\" width=\"504pt\" height=\"504pt\" viewBox=\"0 0 504 504\" version=\"1.1\">\n",
       "<defs>\n",
       "<g>\n",
       "<symbol overflow=\"visible\" id=\"glyph0-0\">\n",
       "<path style=\"stroke:none;\" d=\"M 1.078125 0 L 1.078125 -10.375 L 9.4375 -10.375 L 9.4375 0 Z M 8.140625 -1.296875 L 8.140625 -9.078125 L 2.375 -9.078125 L 2.375 -1.296875 Z M 8.140625 -1.296875 \"/>\n",
       "</symbol>\n",
       "<symbol overflow=\"visible\" id=\"glyph0-1\">\n",
       "<path style=\"stroke:none;\" d=\"M 1.078125 0 L 1.078125 -10.375 L 3.234375 -10.375 L 3.234375 -6.421875 L 7.28125 -6.421875 L 7.28125 -10.375 L 9.4375 -10.375 L 9.4375 0 L 7.28125 0 L 7.28125 -4.625 L 3.234375 -4.625 L 3.234375 0 Z M 1.078125 0 \"/>\n",
       "</symbol>\n",
       "<symbol overflow=\"visible\" id=\"glyph0-2\">\n",
       "<path style=\"stroke:none;\" d=\"M 3 -8.578125 L 0.96875 -8.578125 L 0.96875 -10.4375 L 3 -10.4375 Z M 0.96875 -7.671875 L 3 -7.671875 L 3 0 L 0.96875 0 Z M 0.96875 -7.671875 \"/>\n",
       "</symbol>\n",
       "<symbol overflow=\"visible\" id=\"glyph0-3\">\n",
       "<path style=\"stroke:none;\" d=\"M 2.5 -2.453125 C 2.539062 -2.085938 2.628906 -1.832031 2.765625 -1.6875 C 3.015625 -1.414062 3.476562 -1.28125 4.15625 -1.28125 C 4.539062 -1.28125 4.847656 -1.335938 5.078125 -1.453125 C 5.316406 -1.578125 5.4375 -1.753906 5.4375 -1.984375 C 5.4375 -2.210938 5.34375 -2.382812 5.15625 -2.5 C 4.96875 -2.625 4.269531 -2.828125 3.0625 -3.109375 C 2.195312 -3.328125 1.585938 -3.597656 1.234375 -3.921875 C 0.878906 -4.234375 0.703125 -4.691406 0.703125 -5.296875 C 0.703125 -6.003906 0.976562 -6.613281 1.53125 -7.125 C 2.082031 -7.632812 2.863281 -7.890625 3.875 -7.890625 C 4.832031 -7.890625 5.613281 -7.695312 6.21875 -7.3125 C 6.820312 -6.925781 7.164062 -6.265625 7.25 -5.328125 L 5.25 -5.328125 C 5.21875 -5.585938 5.144531 -5.789062 5.03125 -5.9375 C 4.8125 -6.21875 4.4375 -6.359375 3.90625 -6.359375 C 3.46875 -6.359375 3.15625 -6.285156 2.96875 -6.140625 C 2.78125 -6.003906 2.6875 -5.847656 2.6875 -5.671875 C 2.6875 -5.441406 2.785156 -5.273438 2.984375 -5.171875 C 3.179688 -5.066406 3.878906 -4.878906 5.078125 -4.609375 C 5.878906 -4.421875 6.476562 -4.140625 6.875 -3.765625 C 7.269531 -3.378906 7.46875 -2.898438 7.46875 -2.328125 C 7.46875 -1.566406 7.179688 -0.941406 6.609375 -0.453125 C 6.046875 0.0234375 5.175781 0.265625 4 0.265625 C 2.789062 0.265625 1.898438 0.0078125 1.328125 -0.5 C 0.753906 -1.007812 0.46875 -1.660156 0.46875 -2.453125 Z M 4.03125 -7.875 Z M 4.03125 -7.875 \"/>\n",
       "</symbol>\n",
       "<symbol overflow=\"visible\" id=\"glyph0-4\">\n",
       "<path style=\"stroke:none;\" d=\"M 0.140625 -6.171875 L 0.140625 -7.59375 L 1.21875 -7.59375 L 1.21875 -9.734375 L 3.203125 -9.734375 L 3.203125 -7.59375 L 4.453125 -7.59375 L 4.453125 -6.171875 L 3.203125 -6.171875 L 3.203125 -2.125 C 3.203125 -1.800781 3.238281 -1.597656 3.3125 -1.515625 C 3.394531 -1.441406 3.640625 -1.40625 4.046875 -1.40625 C 4.109375 -1.40625 4.171875 -1.40625 4.234375 -1.40625 C 4.304688 -1.414062 4.378906 -1.421875 4.453125 -1.421875 L 4.453125 0.078125 L 3.5 0.109375 C 2.550781 0.140625 1.898438 -0.0234375 1.546875 -0.390625 C 1.328125 -0.617188 1.21875 -0.972656 1.21875 -1.453125 L 1.21875 -6.171875 Z M 0.140625 -6.171875 \"/>\n",
       "</symbol>\n",
       "<symbol overflow=\"visible\" id=\"glyph0-5\">\n",
       "<path style=\"stroke:none;\" d=\"M 4.375 -1.40625 C 4.957031 -1.40625 5.40625 -1.613281 5.71875 -2.03125 C 6.039062 -2.457031 6.203125 -3.050781 6.203125 -3.8125 C 6.203125 -4.582031 6.039062 -5.175781 5.71875 -5.59375 C 5.40625 -6.007812 4.957031 -6.21875 4.375 -6.21875 C 3.789062 -6.21875 3.335938 -6.007812 3.015625 -5.59375 C 2.703125 -5.175781 2.546875 -4.582031 2.546875 -3.8125 C 2.546875 -3.050781 2.703125 -2.457031 3.015625 -2.03125 C 3.335938 -1.613281 3.789062 -1.40625 4.375 -1.40625 Z M 8.296875 -3.8125 C 8.296875 -2.6875 7.972656 -1.722656 7.328125 -0.921875 C 6.679688 -0.128906 5.695312 0.265625 4.375 0.265625 C 3.0625 0.265625 2.082031 -0.128906 1.4375 -0.921875 C 0.789062 -1.722656 0.46875 -2.6875 0.46875 -3.8125 C 0.46875 -4.925781 0.789062 -5.882812 1.4375 -6.6875 C 2.082031 -7.5 3.0625 -7.90625 4.375 -7.90625 C 5.695312 -7.90625 6.679688 -7.5 7.328125 -6.6875 C 7.972656 -5.882812 8.296875 -4.925781 8.296875 -3.8125 Z M 4.375 -7.875 Z M 4.375 -7.875 \"/>\n",
       "</symbol>\n",
       "<symbol overflow=\"visible\" id=\"glyph0-6\">\n",
       "<path style=\"stroke:none;\" d=\"M 4.234375 -1.640625 C 4.703125 -1.640625 5.097656 -1.816406 5.421875 -2.171875 C 5.742188 -2.523438 5.90625 -3.09375 5.90625 -3.875 C 5.90625 -4.59375 5.75 -5.140625 5.4375 -5.515625 C 5.132812 -5.898438 4.722656 -6.09375 4.203125 -6.09375 C 3.503906 -6.09375 3.019531 -5.765625 2.75 -5.109375 C 2.613281 -4.753906 2.546875 -4.320312 2.546875 -3.8125 C 2.546875 -3.363281 2.617188 -2.960938 2.765625 -2.609375 C 3.035156 -1.960938 3.523438 -1.640625 4.234375 -1.640625 Z M 3.734375 -7.84375 C 4.117188 -7.84375 4.453125 -7.785156 4.734375 -7.671875 C 5.222656 -7.472656 5.617188 -7.101562 5.921875 -6.5625 L 5.921875 -7.671875 L 7.859375 -7.671875 L 7.859375 -0.390625 C 7.859375 0.597656 7.691406 1.34375 7.359375 1.84375 C 6.785156 2.707031 5.691406 3.140625 4.078125 3.140625 C 3.097656 3.140625 2.296875 2.945312 1.671875 2.5625 C 1.054688 2.175781 0.710938 1.601562 0.640625 0.84375 L 2.828125 0.84375 C 2.878906 1.070312 2.972656 1.238281 3.109375 1.34375 C 3.316406 1.53125 3.675781 1.625 4.1875 1.625 C 4.914062 1.625 5.398438 1.378906 5.640625 0.890625 C 5.796875 0.578125 5.875 0.0546875 5.875 -0.671875 L 5.875 -1.15625 C 5.6875 -0.832031 5.484375 -0.585938 5.265625 -0.421875 C 4.859375 -0.117188 4.335938 0.03125 3.703125 0.03125 C 2.722656 0.03125 1.9375 -0.3125 1.34375 -1 C 0.757812 -1.695312 0.46875 -2.632812 0.46875 -3.8125 C 0.46875 -4.945312 0.75 -5.898438 1.3125 -6.671875 C 1.882812 -7.453125 2.691406 -7.84375 3.734375 -7.84375 Z M 4.375 -7.875 Z M 4.375 -7.875 \"/>\n",
       "</symbol>\n",
       "<symbol overflow=\"visible\" id=\"glyph0-7\">\n",
       "<path style=\"stroke:none;\" d=\"M 5.09375 -7.84375 C 5.132812 -7.84375 5.164062 -7.84375 5.1875 -7.84375 C 5.21875 -7.84375 5.273438 -7.84375 5.359375 -7.84375 L 5.359375 -5.78125 C 5.234375 -5.789062 5.117188 -5.796875 5.015625 -5.796875 C 4.921875 -5.804688 4.847656 -5.8125 4.796875 -5.8125 C 3.984375 -5.8125 3.441406 -5.550781 3.171875 -5.03125 C 3.015625 -4.738281 2.9375 -4.285156 2.9375 -3.671875 L 2.9375 0 L 0.921875 0 L 0.921875 -7.671875 L 2.828125 -7.671875 L 2.828125 -6.328125 C 3.140625 -6.835938 3.410156 -7.1875 3.640625 -7.375 C 4.015625 -7.6875 4.5 -7.84375 5.09375 -7.84375 Z M 5.09375 -7.84375 \"/>\n",
       "</symbol>\n",
       "<symbol overflow=\"visible\" id=\"glyph0-8\">\n",
       "<path style=\"stroke:none;\" d=\"M 5.15625 -3.734375 C 5.03125 -3.648438 4.90625 -3.582031 4.78125 -3.53125 C 4.65625 -3.476562 4.476562 -3.429688 4.25 -3.390625 L 3.796875 -3.3125 C 3.378906 -3.238281 3.078125 -3.144531 2.890625 -3.03125 C 2.578125 -2.851562 2.421875 -2.570312 2.421875 -2.1875 C 2.421875 -1.84375 2.515625 -1.59375 2.703125 -1.4375 C 2.898438 -1.289062 3.132812 -1.21875 3.40625 -1.21875 C 3.832031 -1.21875 4.226562 -1.34375 4.59375 -1.59375 C 4.957031 -1.851562 5.144531 -2.316406 5.15625 -2.984375 Z M 3.953125 -4.65625 C 4.316406 -4.707031 4.578125 -4.769531 4.734375 -4.84375 C 5.023438 -4.957031 5.171875 -5.144531 5.171875 -5.40625 C 5.171875 -5.71875 5.0625 -5.929688 4.84375 -6.046875 C 4.625 -6.171875 4.304688 -6.234375 3.890625 -6.234375 C 3.410156 -6.234375 3.070312 -6.117188 2.875 -5.890625 C 2.738281 -5.710938 2.644531 -5.476562 2.59375 -5.1875 L 0.65625 -5.1875 C 0.695312 -5.851562 0.882812 -6.40625 1.21875 -6.84375 C 1.75 -7.507812 2.660156 -7.84375 3.953125 -7.84375 C 4.796875 -7.84375 5.539062 -7.675781 6.1875 -7.34375 C 6.84375 -7.007812 7.171875 -6.382812 7.171875 -5.46875 L 7.171875 -1.953125 C 7.171875 -1.703125 7.175781 -1.40625 7.1875 -1.0625 C 7.195312 -0.800781 7.234375 -0.625 7.296875 -0.53125 C 7.367188 -0.4375 7.46875 -0.359375 7.59375 -0.296875 L 7.59375 0 L 5.421875 0 C 5.359375 -0.15625 5.3125 -0.300781 5.28125 -0.4375 C 5.257812 -0.570312 5.242188 -0.726562 5.234375 -0.90625 C 4.953125 -0.601562 4.632812 -0.347656 4.28125 -0.140625 C 3.84375 0.109375 3.351562 0.234375 2.8125 0.234375 C 2.113281 0.234375 1.539062 0.0351562 1.09375 -0.359375 C 0.644531 -0.753906 0.421875 -1.316406 0.421875 -2.046875 C 0.421875 -2.984375 0.78125 -3.664062 1.5 -4.09375 C 1.90625 -4.320312 2.492188 -4.484375 3.265625 -4.578125 Z M 4.046875 -7.875 Z M 4.046875 -7.875 \"/>\n",
       "</symbol>\n",
       "<symbol overflow=\"visible\" id=\"glyph0-9\">\n",
       "<path style=\"stroke:none;\" d=\"M 9.5 -7.84375 C 9.84375 -7.84375 10.175781 -7.773438 10.5 -7.640625 C 10.832031 -7.503906 11.128906 -7.273438 11.390625 -6.953125 C 11.609375 -6.679688 11.753906 -6.351562 11.828125 -5.96875 C 11.878906 -5.707031 11.90625 -5.328125 11.90625 -4.828125 L 11.890625 0 L 9.828125 0 L 9.828125 -4.875 C 9.828125 -5.164062 9.78125 -5.40625 9.6875 -5.59375 C 9.507812 -5.957031 9.179688 -6.140625 8.703125 -6.140625 C 8.148438 -6.140625 7.769531 -5.90625 7.5625 -5.4375 C 7.457031 -5.195312 7.40625 -4.90625 7.40625 -4.5625 L 7.40625 0 L 5.375 0 L 5.375 -4.5625 C 5.375 -5.019531 5.328125 -5.351562 5.234375 -5.5625 C 5.066406 -5.925781 4.738281 -6.109375 4.25 -6.109375 C 3.675781 -6.109375 3.289062 -5.925781 3.09375 -5.5625 C 2.988281 -5.34375 2.9375 -5.023438 2.9375 -4.609375 L 2.9375 0 L 0.90625 0 L 0.90625 -7.65625 L 2.84375 -7.65625 L 2.84375 -6.53125 C 3.09375 -6.925781 3.328125 -7.210938 3.546875 -7.390625 C 3.941406 -7.691406 4.445312 -7.84375 5.0625 -7.84375 C 5.644531 -7.84375 6.117188 -7.710938 6.484375 -7.453125 C 6.773438 -7.210938 6.992188 -6.90625 7.140625 -6.53125 C 7.410156 -6.976562 7.738281 -7.304688 8.125 -7.515625 C 8.539062 -7.734375 9 -7.84375 9.5 -7.84375 Z M 9.5 -7.84375 \"/>\n",
       "</symbol>\n",
       "<symbol overflow=\"visible\" id=\"glyph0-10\">\n",
       "<path style=\"stroke:none;\" d=\"\"/>\n",
       "</symbol>\n",
       "<symbol overflow=\"visible\" id=\"glyph0-11\">\n",
       "<path style=\"stroke:none;\" d=\"M 3.765625 -10.46875 C 3.890625 -10.46875 4.003906 -10.460938 4.109375 -10.453125 C 4.210938 -10.453125 4.351562 -10.445312 4.53125 -10.4375 L 4.53125 -8.796875 C 4.414062 -8.816406 4.222656 -8.828125 3.953125 -8.828125 C 3.691406 -8.835938 3.507812 -8.78125 3.40625 -8.65625 C 3.3125 -8.53125 3.265625 -8.394531 3.265625 -8.25 C 3.265625 -8.09375 3.265625 -7.875 3.265625 -7.59375 L 4.578125 -7.59375 L 4.578125 -6.1875 L 3.265625 -6.1875 L 3.265625 0 L 1.265625 0 L 1.265625 -6.1875 L 0.140625 -6.1875 L 0.140625 -7.59375 L 1.25 -7.59375 L 1.25 -8.09375 C 1.25 -8.914062 1.382812 -9.476562 1.65625 -9.78125 C 1.945312 -10.238281 2.648438 -10.46875 3.765625 -10.46875 Z M 3.765625 -10.46875 \"/>\n",
       "</symbol>\n",
       "<symbol overflow=\"visible\" id=\"glyph0-12\">\n",
       "<path style=\"stroke:none;\" d=\"M 2.9375 -7.671875 L 2.9375 -3.046875 C 2.9375 -2.609375 2.988281 -2.28125 3.09375 -2.0625 C 3.269531 -1.675781 3.628906 -1.484375 4.171875 -1.484375 C 4.847656 -1.484375 5.316406 -1.757812 5.578125 -2.3125 C 5.703125 -2.601562 5.765625 -3 5.765625 -3.5 L 5.765625 -7.671875 L 7.796875 -7.671875 L 7.796875 0 L 5.859375 0 L 5.859375 -1.078125 C 5.835938 -1.054688 5.785156 -0.988281 5.703125 -0.875 C 5.628906 -0.757812 5.539062 -0.65625 5.4375 -0.5625 C 5.125 -0.28125 4.820312 -0.0859375 4.53125 0.015625 C 4.238281 0.117188 3.894531 0.171875 3.5 0.171875 C 2.363281 0.171875 1.597656 -0.238281 1.203125 -1.0625 C 0.984375 -1.507812 0.875 -2.171875 0.875 -3.046875 L 0.875 -7.671875 Z M 4.34375 -7.875 Z M 4.34375 -7.875 \"/>\n",
       "</symbol>\n",
       "<symbol overflow=\"visible\" id=\"glyph0-13\">\n",
       "<path style=\"stroke:none;\" d=\"M 5.515625 -4.921875 C 5.472656 -5.203125 5.375 -5.457031 5.21875 -5.6875 C 5 -6 4.648438 -6.15625 4.171875 -6.15625 C 3.503906 -6.15625 3.046875 -5.820312 2.796875 -5.15625 C 2.660156 -4.789062 2.59375 -4.316406 2.59375 -3.734375 C 2.59375 -3.171875 2.660156 -2.71875 2.796875 -2.375 C 3.035156 -1.726562 3.484375 -1.40625 4.140625 -1.40625 C 4.609375 -1.40625 4.941406 -1.53125 5.140625 -1.78125 C 5.335938 -2.039062 5.457031 -2.375 5.5 -2.78125 L 7.546875 -2.78125 C 7.503906 -2.164062 7.285156 -1.585938 6.890625 -1.046875 C 6.253906 -0.171875 5.320312 0.265625 4.09375 0.265625 C 2.863281 0.265625 1.957031 -0.0976562 1.375 -0.828125 C 0.789062 -1.554688 0.5 -2.503906 0.5 -3.671875 C 0.5 -4.992188 0.816406 -6.019531 1.453125 -6.75 C 2.097656 -7.476562 2.988281 -7.84375 4.125 -7.84375 C 5.082031 -7.84375 5.867188 -7.628906 6.484375 -7.203125 C 7.097656 -6.773438 7.457031 -6.015625 7.5625 -4.921875 Z M 4.15625 -7.875 Z M 4.15625 -7.875 \"/>\n",
       "</symbol>\n",
       "<symbol overflow=\"visible\" id=\"glyph0-14\">\n",
       "<path style=\"stroke:none;\" d=\"M 3.953125 -6.21875 C 3.492188 -6.21875 3.132812 -6.070312 2.875 -5.78125 C 2.625 -5.488281 2.46875 -5.09375 2.40625 -4.59375 L 5.515625 -4.59375 C 5.484375 -5.125 5.320312 -5.523438 5.03125 -5.796875 C 4.738281 -6.078125 4.378906 -6.21875 3.953125 -6.21875 Z M 3.953125 -7.875 C 4.597656 -7.875 5.175781 -7.753906 5.6875 -7.515625 C 6.195312 -7.273438 6.617188 -6.894531 6.953125 -6.375 C 7.253906 -5.925781 7.445312 -5.398438 7.53125 -4.796875 C 7.582031 -4.441406 7.601562 -3.9375 7.59375 -3.28125 L 2.34375 -3.28125 C 2.375 -2.507812 2.617188 -1.96875 3.078125 -1.65625 C 3.347656 -1.46875 3.679688 -1.375 4.078125 -1.375 C 4.484375 -1.375 4.816406 -1.488281 5.078125 -1.71875 C 5.222656 -1.84375 5.347656 -2.019531 5.453125 -2.25 L 7.5 -2.25 C 7.445312 -1.789062 7.207031 -1.328125 6.78125 -0.859375 C 6.125 -0.117188 5.207031 0.25 4.03125 0.25 C 3.050781 0.25 2.1875 -0.0625 1.4375 -0.6875 C 0.695312 -1.3125 0.328125 -2.332031 0.328125 -3.75 C 0.328125 -5.082031 0.660156 -6.101562 1.328125 -6.8125 C 2.003906 -7.519531 2.878906 -7.875 3.953125 -7.875 Z M 4.09375 -7.875 Z M 4.09375 -7.875 \"/>\n",
       "</symbol>\n",
       "<symbol overflow=\"visible\" id=\"glyph0-15\">\n",
       "<path style=\"stroke:none;\" d=\"M 0 1.796875 L 0 1.09375 L 8.015625 1.09375 L 8.015625 1.796875 Z M 0 1.796875 \"/>\n",
       "</symbol>\n",
       "<symbol overflow=\"visible\" id=\"glyph0-16\">\n",
       "<path style=\"stroke:none;\" d=\"M 3.765625 -7.84375 C 4.222656 -7.84375 4.632812 -7.738281 5 -7.53125 C 5.363281 -7.332031 5.65625 -7.054688 5.875 -6.703125 L 5.875 -10.359375 L 7.90625 -10.359375 L 7.90625 0 L 5.96875 0 L 5.96875 -1.0625 C 5.675781 -0.601562 5.347656 -0.269531 4.984375 -0.0625 C 4.617188 0.132812 4.164062 0.234375 3.625 0.234375 C 2.726562 0.234375 1.972656 -0.125 1.359375 -0.84375 C 0.742188 -1.570312 0.4375 -2.503906 0.4375 -3.640625 C 0.4375 -4.941406 0.738281 -5.96875 1.34375 -6.71875 C 1.945312 -7.46875 2.753906 -7.84375 3.765625 -7.84375 Z M 4.203125 -1.453125 C 4.765625 -1.453125 5.191406 -1.660156 5.484375 -2.078125 C 5.785156 -2.503906 5.9375 -3.050781 5.9375 -3.71875 C 5.9375 -4.65625 5.695312 -5.328125 5.21875 -5.734375 C 4.9375 -5.972656 4.601562 -6.09375 4.21875 -6.09375 C 3.625 -6.09375 3.191406 -5.867188 2.921875 -5.421875 C 2.648438 -4.984375 2.515625 -4.4375 2.515625 -3.78125 C 2.515625 -3.070312 2.648438 -2.503906 2.921875 -2.078125 C 3.203125 -1.660156 3.628906 -1.453125 4.203125 -1.453125 Z M 4.203125 -1.453125 \"/>\n",
       "</symbol>\n",
       "<symbol overflow=\"visible\" id=\"glyph0-17\">\n",
       "<path style=\"stroke:none;\" d=\"M 0.90625 -10.46875 L 4.4375 -10.46875 L 4.4375 -9 L 2.796875 -9 L 2.796875 1.296875 L 4.4375 1.296875 L 4.4375 2.765625 L 0.90625 2.765625 Z M 0.90625 -10.46875 \"/>\n",
       "</symbol>\n",
       "<symbol overflow=\"visible\" id=\"glyph0-18\">\n",
       "<path style=\"stroke:none;\" d=\"M 0.828125 1.671875 C 1.234375 1.554688 1.53125 1.363281 1.71875 1.09375 C 1.90625 0.832031 2.015625 0.46875 2.046875 0 L 0.828125 0 L 0.828125 -2.09375 L 3 -2.09375 L 3 -0.28125 C 3 0.0390625 2.957031 0.375 2.875 0.71875 C 2.789062 1.0625 2.632812 1.363281 2.40625 1.625 C 2.15625 1.894531 1.859375 2.097656 1.515625 2.234375 C 1.179688 2.367188 0.953125 2.4375 0.828125 2.4375 Z M 0.828125 1.671875 \"/>\n",
       "</symbol>\n",
       "<symbol overflow=\"visible\" id=\"glyph0-19\">\n",
       "<path style=\"stroke:none;\" d=\"M 5.765625 -10.375 L 5.4375 -6.078125 L 4.171875 -6.078125 L 3.84375 -10.375 Z M 3.09375 -10.375 L 2.75 -6.078125 L 1.484375 -6.078125 L 1.171875 -10.375 Z M 3.09375 -10.375 \"/>\n",
       "</symbol>\n",
       "<symbol overflow=\"visible\" id=\"glyph0-20\">\n",
       "<path style=\"stroke:none;\" d=\"M 5.15625 -7.859375 C 5.632812 -7.859375 6.066406 -7.773438 6.453125 -7.609375 C 6.835938 -7.453125 7.15625 -7.203125 7.40625 -6.859375 C 7.613281 -6.578125 7.738281 -6.285156 7.78125 -5.984375 C 7.832031 -5.679688 7.859375 -5.1875 7.859375 -4.5 L 7.859375 0 L 5.8125 0 L 5.8125 -4.65625 C 5.8125 -5.070312 5.742188 -5.40625 5.609375 -5.65625 C 5.421875 -6.019531 5.070312 -6.203125 4.5625 -6.203125 C 4.03125 -6.203125 3.628906 -6.023438 3.359375 -5.671875 C 3.085938 -5.316406 2.953125 -4.8125 2.953125 -4.15625 L 2.953125 0 L 0.953125 0 L 0.953125 -10.328125 L 2.953125 -10.328125 L 2.953125 -6.671875 C 3.242188 -7.117188 3.578125 -7.425781 3.953125 -7.59375 C 4.335938 -7.769531 4.738281 -7.859375 5.15625 -7.859375 Z M 5.15625 -7.859375 \"/>\n",
       "</symbol>\n",
       "<symbol overflow=\"visible\" id=\"glyph0-21\">\n",
       "<path style=\"stroke:none;\" d=\"M 0.921875 -10.328125 L 2.890625 -10.328125 L 2.890625 -4.75 L 5.375 -7.625 L 7.859375 -7.625 L 5.1875 -4.703125 L 7.96875 0 L 5.546875 0 L 3.71875 -3.28125 L 2.890625 -2.40625 L 2.890625 0 L 0.921875 0 Z M 0.921875 -10.328125 \"/>\n",
       "</symbol>\n",
       "<symbol overflow=\"visible\" id=\"glyph0-22\">\n",
       "<path style=\"stroke:none;\" d=\"M 0.328125 1.296875 L 1.96875 1.296875 L 1.96875 -9.03125 L 0.328125 -9.03125 L 0.328125 -10.46875 L 3.859375 -10.46875 L 3.859375 2.765625 L 0.328125 2.765625 Z M 0.328125 1.296875 \"/>\n",
       "</symbol>\n",
       "<symbol overflow=\"visible\" id=\"glyph1-0\">\n",
       "<path style=\"stroke:none;\" d=\"M 0.390625 0 L 0.390625 -8.609375 L 7.21875 -8.609375 L 7.21875 0 Z M 6.140625 -1.078125 L 6.140625 -7.53125 L 1.46875 -7.53125 L 1.46875 -1.078125 Z M 6.140625 -1.078125 \"/>\n",
       "</symbol>\n",
       "<symbol overflow=\"visible\" id=\"glyph1-1\">\n",
       "<path style=\"stroke:none;\" d=\"M 3.265625 -0.6875 C 3.960938 -0.6875 4.441406 -0.945312 4.703125 -1.46875 C 4.960938 -2 5.09375 -2.585938 5.09375 -3.234375 C 5.09375 -3.828125 5 -4.304688 4.8125 -4.671875 C 4.507812 -5.242188 4 -5.53125 3.28125 -5.53125 C 2.632812 -5.53125 2.164062 -5.285156 1.875 -4.796875 C 1.582031 -4.304688 1.4375 -3.710938 1.4375 -3.015625 C 1.4375 -2.347656 1.582031 -1.789062 1.875 -1.34375 C 2.164062 -0.90625 2.628906 -0.6875 3.265625 -0.6875 Z M 3.3125 -6.453125 C 4.113281 -6.453125 4.789062 -6.179688 5.34375 -5.640625 C 5.90625 -5.109375 6.1875 -4.316406 6.1875 -3.265625 C 6.1875 -2.253906 5.941406 -1.414062 5.453125 -0.75 C 4.960938 -0.09375 4.203125 0.234375 3.171875 0.234375 C 2.304688 0.234375 1.617188 -0.0546875 1.109375 -0.640625 C 0.597656 -1.234375 0.34375 -2.019531 0.34375 -3 C 0.34375 -4.050781 0.609375 -4.890625 1.140625 -5.515625 C 1.679688 -6.140625 2.40625 -6.453125 3.3125 -6.453125 Z M 3.265625 -6.421875 Z M 3.265625 -6.421875 \"/>\n",
       "</symbol>\n",
       "<symbol overflow=\"visible\" id=\"glyph1-2\">\n",
       "<path style=\"stroke:none;\" d=\"M 1.828125 -6.28125 L 1.828125 -2.109375 C 1.828125 -1.785156 1.878906 -1.523438 1.984375 -1.328125 C 2.171875 -0.953125 2.519531 -0.765625 3.03125 -0.765625 C 3.757812 -0.765625 4.257812 -1.09375 4.53125 -1.75 C 4.675781 -2.101562 4.75 -2.582031 4.75 -3.1875 L 4.75 -6.28125 L 5.796875 -6.28125 L 5.796875 0 L 4.8125 0 L 4.8125 -0.921875 C 4.675781 -0.679688 4.507812 -0.484375 4.3125 -0.328125 C 3.90625 0.00390625 3.414062 0.171875 2.84375 0.171875 C 1.945312 0.171875 1.335938 -0.128906 1.015625 -0.734375 C 0.835938 -1.046875 0.75 -1.472656 0.75 -2.015625 L 0.75 -6.28125 Z M 3.28125 -6.421875 Z M 3.28125 -6.421875 \"/>\n",
       "</symbol>\n",
       "<symbol overflow=\"visible\" id=\"glyph1-3\">\n",
       "<path style=\"stroke:none;\" d=\"M 0.984375 -8.03125 L 2.046875 -8.03125 L 2.046875 -6.28125 L 3.046875 -6.28125 L 3.046875 -5.421875 L 2.046875 -5.421875 L 2.046875 -1.3125 C 2.046875 -1.09375 2.125 -0.945312 2.28125 -0.875 C 2.351562 -0.832031 2.488281 -0.8125 2.6875 -0.8125 C 2.738281 -0.8125 2.789062 -0.8125 2.84375 -0.8125 C 2.90625 -0.820312 2.972656 -0.828125 3.046875 -0.828125 L 3.046875 0 C 2.929688 0.03125 2.804688 0.0507812 2.671875 0.0625 C 2.546875 0.0820312 2.40625 0.09375 2.25 0.09375 C 1.757812 0.09375 1.425781 -0.03125 1.25 -0.28125 C 1.070312 -0.53125 0.984375 -0.859375 0.984375 -1.265625 L 0.984375 -5.421875 L 0.140625 -5.421875 L 0.140625 -6.28125 L 0.984375 -6.28125 Z M 0.984375 -8.03125 \"/>\n",
       "</symbol>\n",
       "<symbol overflow=\"visible\" id=\"glyph1-4\">\n",
       "<path style=\"stroke:none;\" d=\"M 3.1875 -6.453125 C 3.894531 -6.453125 4.46875 -6.28125 4.90625 -5.9375 C 5.351562 -5.59375 5.625 -5.003906 5.71875 -4.171875 L 4.6875 -4.171875 C 4.625 -4.554688 4.484375 -4.875 4.265625 -5.125 C 4.046875 -5.382812 3.6875 -5.515625 3.1875 -5.515625 C 2.519531 -5.515625 2.039062 -5.1875 1.75 -4.53125 C 1.5625 -4.101562 1.46875 -3.578125 1.46875 -2.953125 C 1.46875 -2.328125 1.597656 -1.796875 1.859375 -1.359375 C 2.128906 -0.929688 2.550781 -0.71875 3.125 -0.71875 C 3.5625 -0.71875 3.90625 -0.851562 4.15625 -1.125 C 4.414062 -1.394531 4.59375 -1.757812 4.6875 -2.21875 L 5.71875 -2.21875 C 5.601562 -1.382812 5.3125 -0.773438 4.84375 -0.390625 C 4.375 -0.00390625 3.773438 0.1875 3.046875 0.1875 C 2.222656 0.1875 1.566406 -0.113281 1.078125 -0.71875 C 0.585938 -1.320312 0.34375 -2.070312 0.34375 -2.96875 C 0.34375 -4.070312 0.609375 -4.925781 1.140625 -5.53125 C 1.679688 -6.144531 2.363281 -6.453125 3.1875 -6.453125 Z M 3.03125 -6.421875 Z M 3.03125 -6.421875 \"/>\n",
       "</symbol>\n",
       "<symbol overflow=\"visible\" id=\"glyph1-5\">\n",
       "<path style=\"stroke:none;\" d=\"M 0.78125 -6.28125 L 1.8125 -6.28125 L 1.8125 -5.390625 C 2.0625 -5.691406 2.289062 -5.914062 2.5 -6.0625 C 2.84375 -6.300781 3.238281 -6.421875 3.6875 -6.421875 C 4.1875 -6.421875 4.585938 -6.296875 4.890625 -6.046875 C 5.054688 -5.910156 5.210938 -5.703125 5.359375 -5.421875 C 5.585938 -5.765625 5.859375 -6.015625 6.171875 -6.171875 C 6.492188 -6.335938 6.851562 -6.421875 7.25 -6.421875 C 8.09375 -6.421875 8.664062 -6.113281 8.96875 -5.5 C 9.132812 -5.175781 9.21875 -4.734375 9.21875 -4.171875 L 9.21875 0 L 8.125 0 L 8.125 -4.359375 C 8.125 -4.773438 8.019531 -5.0625 7.8125 -5.21875 C 7.601562 -5.375 7.347656 -5.453125 7.046875 -5.453125 C 6.628906 -5.453125 6.269531 -5.3125 5.96875 -5.03125 C 5.675781 -4.757812 5.53125 -4.300781 5.53125 -3.65625 L 5.53125 0 L 4.453125 0 L 4.453125 -4.09375 C 4.453125 -4.519531 4.398438 -4.832031 4.296875 -5.03125 C 4.140625 -5.320312 3.84375 -5.46875 3.40625 -5.46875 C 3.007812 -5.46875 2.644531 -5.3125 2.3125 -5 C 1.988281 -4.695312 1.828125 -4.140625 1.828125 -3.328125 L 1.828125 0 L 0.78125 0 Z M 0.78125 -6.28125 \"/>\n",
       "</symbol>\n",
       "<symbol overflow=\"visible\" id=\"glyph1-6\">\n",
       "<path style=\"stroke:none;\" d=\"M 3.390625 -6.421875 C 3.835938 -6.421875 4.269531 -6.316406 4.6875 -6.109375 C 5.101562 -5.898438 5.421875 -5.628906 5.640625 -5.296875 C 5.847656 -4.972656 5.988281 -4.601562 6.0625 -4.1875 C 6.125 -3.894531 6.15625 -3.429688 6.15625 -2.796875 L 1.546875 -2.796875 C 1.566406 -2.160156 1.71875 -1.648438 2 -1.265625 C 2.28125 -0.878906 2.71875 -0.6875 3.3125 -0.6875 C 3.863281 -0.6875 4.300781 -0.867188 4.625 -1.234375 C 4.8125 -1.441406 4.945312 -1.6875 5.03125 -1.96875 L 6.0625 -1.96875 C 6.039062 -1.738281 5.953125 -1.484375 5.796875 -1.203125 C 5.640625 -0.921875 5.46875 -0.6875 5.28125 -0.5 C 4.957031 -0.1875 4.554688 0.0195312 4.078125 0.125 C 3.828125 0.1875 3.539062 0.21875 3.21875 0.21875 C 2.4375 0.21875 1.773438 -0.0625 1.234375 -0.625 C 0.691406 -1.195312 0.421875 -1.992188 0.421875 -3.015625 C 0.421875 -4.023438 0.691406 -4.84375 1.234375 -5.46875 C 1.785156 -6.101562 2.503906 -6.421875 3.390625 -6.421875 Z M 5.0625 -3.640625 C 5.019531 -4.097656 4.921875 -4.460938 4.765625 -4.734375 C 4.484375 -5.242188 4.003906 -5.5 3.328125 -5.5 C 2.835938 -5.5 2.425781 -5.320312 2.09375 -4.96875 C 1.769531 -4.625 1.597656 -4.179688 1.578125 -3.640625 Z M 3.28125 -6.421875 Z M 3.28125 -6.421875 \"/>\n",
       "</symbol>\n",
       "<symbol overflow=\"visible\" id=\"glyph1-7\">\n",
       "<path style=\"stroke:none;\" d=\"M 0 1.5 L 0 0.90625 L 6.671875 0.90625 L 6.671875 1.5 Z M 0 1.5 \"/>\n",
       "</symbol>\n",
       "<symbol overflow=\"visible\" id=\"glyph1-8\">\n",
       "<path style=\"stroke:none;\" d=\"M 0.796875 -6.28125 L 1.8125 -6.28125 L 1.8125 -5.1875 C 1.882812 -5.40625 2.082031 -5.664062 2.40625 -5.96875 C 2.726562 -6.269531 3.097656 -6.421875 3.515625 -6.421875 C 3.535156 -6.421875 3.566406 -6.414062 3.609375 -6.40625 C 3.660156 -6.40625 3.742188 -6.398438 3.859375 -6.390625 L 3.859375 -5.28125 C 3.796875 -5.289062 3.738281 -5.296875 3.6875 -5.296875 C 3.632812 -5.296875 3.578125 -5.296875 3.515625 -5.296875 C 2.984375 -5.296875 2.570312 -5.125 2.28125 -4.78125 C 2 -4.445312 1.859375 -4.054688 1.859375 -3.609375 L 1.859375 0 L 0.796875 0 Z M 0.796875 -6.28125 \"/>\n",
       "</symbol>\n",
       "<symbol overflow=\"visible\" id=\"glyph1-9\">\n",
       "<path style=\"stroke:none;\" d=\"M 1.4375 -3.0625 C 1.4375 -2.394531 1.578125 -1.832031 1.859375 -1.375 C 2.148438 -0.925781 2.609375 -0.703125 3.234375 -0.703125 C 3.722656 -0.703125 4.125 -0.910156 4.4375 -1.328125 C 4.757812 -1.742188 4.921875 -2.347656 4.921875 -3.140625 C 4.921875 -3.929688 4.753906 -4.515625 4.421875 -4.890625 C 4.097656 -5.273438 3.703125 -5.46875 3.234375 -5.46875 C 2.703125 -5.46875 2.269531 -5.265625 1.9375 -4.859375 C 1.601562 -4.453125 1.4375 -3.851562 1.4375 -3.0625 Z M 3.03125 -6.390625 C 3.507812 -6.390625 3.910156 -6.285156 4.234375 -6.078125 C 4.421875 -5.960938 4.632812 -5.757812 4.875 -5.46875 L 4.875 -8.640625 L 5.890625 -8.640625 L 5.890625 0 L 4.9375 0 L 4.9375 -0.875 C 4.695312 -0.488281 4.40625 -0.207031 4.0625 -0.03125 C 3.726562 0.132812 3.34375 0.21875 2.90625 0.21875 C 2.207031 0.21875 1.601562 -0.0703125 1.09375 -0.65625 C 0.582031 -1.25 0.328125 -2.03125 0.328125 -3 C 0.328125 -3.914062 0.5625 -4.707031 1.03125 -5.375 C 1.5 -6.050781 2.164062 -6.390625 3.03125 -6.390625 Z M 3.03125 -6.390625 \"/>\n",
       "</symbol>\n",
       "<symbol overflow=\"visible\" id=\"glyph1-10\">\n",
       "<path style=\"stroke:none;\" d=\"M 0.75 -8.671875 L 3 -8.671875 L 3 -7.8125 L 1.75 -7.8125 L 1.75 1.5 L 3 1.5 L 3 2.359375 L 0.75 2.359375 Z M 0.75 -8.671875 \"/>\n",
       "</symbol>\n",
       "<symbol overflow=\"visible\" id=\"glyph1-11\">\n",
       "<path style=\"stroke:none;\" d=\"M 1 1.21875 C 1.269531 1.175781 1.457031 0.988281 1.5625 0.65625 C 1.625 0.476562 1.65625 0.304688 1.65625 0.140625 C 1.65625 0.117188 1.648438 0.0976562 1.640625 0.078125 C 1.640625 0.0546875 1.640625 0.03125 1.640625 0 L 1 0 L 1 -1.28125 L 2.25 -1.28125 L 2.25 -0.09375 C 2.25 0.375 2.15625 0.78125 1.96875 1.125 C 1.78125 1.476562 1.457031 1.695312 1 1.78125 Z M 1 1.21875 \"/>\n",
       "</symbol>\n",
       "<symbol overflow=\"visible\" id=\"glyph1-12\">\n",
       "<path style=\"stroke:none;\" d=\"\"/>\n",
       "</symbol>\n",
       "<symbol overflow=\"visible\" id=\"glyph1-13\">\n",
       "<path style=\"stroke:none;\" d=\"M 3.546875 -8.609375 L 3.375 -5.15625 L 2.671875 -5.15625 L 2.484375 -8.609375 Z M 1.546875 -8.609375 L 1.375 -5.15625 L 0.65625 -5.15625 L 0.484375 -8.609375 Z M 1.546875 -8.609375 \"/>\n",
       "</symbol>\n",
       "<symbol overflow=\"visible\" id=\"glyph1-14\">\n",
       "<path style=\"stroke:none;\" d=\"M 0.78125 -8.640625 L 1.828125 -8.640625 L 1.828125 -5.421875 C 2.078125 -5.742188 2.300781 -5.96875 2.5 -6.09375 C 2.84375 -6.3125 3.269531 -6.421875 3.78125 -6.421875 C 4.6875 -6.421875 5.300781 -6.101562 5.625 -5.46875 C 5.800781 -5.125 5.890625 -4.644531 5.890625 -4.03125 L 5.890625 0 L 4.8125 0 L 4.8125 -3.953125 C 4.8125 -4.410156 4.75 -4.75 4.625 -4.96875 C 4.4375 -5.3125 4.078125 -5.484375 3.546875 -5.484375 C 3.109375 -5.484375 2.710938 -5.332031 2.359375 -5.03125 C 2.003906 -4.726562 1.828125 -4.160156 1.828125 -3.328125 L 1.828125 0 L 0.78125 0 Z M 0.78125 -8.640625 \"/>\n",
       "</symbol>\n",
       "<symbol overflow=\"visible\" id=\"glyph1-15\">\n",
       "<path style=\"stroke:none;\" d=\"M 1.578125 -1.671875 C 1.578125 -1.367188 1.6875 -1.128906 1.90625 -0.953125 C 2.132812 -0.773438 2.398438 -0.6875 2.703125 -0.6875 C 3.078125 -0.6875 3.4375 -0.769531 3.78125 -0.9375 C 4.375 -1.226562 4.671875 -1.695312 4.671875 -2.34375 L 4.671875 -3.1875 C 4.535156 -3.113281 4.363281 -3.046875 4.15625 -2.984375 C 3.957031 -2.929688 3.757812 -2.894531 3.5625 -2.875 L 2.9375 -2.796875 C 2.550781 -2.742188 2.257812 -2.660156 2.0625 -2.546875 C 1.738281 -2.367188 1.578125 -2.078125 1.578125 -1.671875 Z M 4.140625 -3.796875 C 4.378906 -3.828125 4.539062 -3.929688 4.625 -4.109375 C 4.664062 -4.203125 4.6875 -4.335938 4.6875 -4.515625 C 4.6875 -4.867188 4.554688 -5.125 4.296875 -5.28125 C 4.046875 -5.445312 3.6875 -5.53125 3.21875 -5.53125 C 2.664062 -5.53125 2.273438 -5.382812 2.046875 -5.09375 C 1.910156 -4.925781 1.820312 -4.679688 1.78125 -4.359375 L 0.796875 -4.359375 C 0.816406 -5.128906 1.066406 -5.664062 1.546875 -5.96875 C 2.035156 -6.269531 2.597656 -6.421875 3.234375 -6.421875 C 3.972656 -6.421875 4.570312 -6.28125 5.03125 -6 C 5.488281 -5.71875 5.71875 -5.28125 5.71875 -4.6875 L 5.71875 -1.078125 C 5.71875 -0.972656 5.738281 -0.882812 5.78125 -0.8125 C 5.832031 -0.75 5.929688 -0.71875 6.078125 -0.71875 C 6.117188 -0.71875 6.164062 -0.71875 6.21875 -0.71875 C 6.28125 -0.726562 6.347656 -0.738281 6.421875 -0.75 L 6.421875 0.03125 C 6.253906 0.0703125 6.125 0.0976562 6.03125 0.109375 C 5.945312 0.128906 5.832031 0.140625 5.6875 0.140625 C 5.320312 0.140625 5.0625 0.0078125 4.90625 -0.25 C 4.8125 -0.382812 4.75 -0.578125 4.71875 -0.828125 C 4.5 -0.546875 4.1875 -0.300781 3.78125 -0.09375 C 3.382812 0.113281 2.945312 0.21875 2.46875 0.21875 C 1.882812 0.21875 1.40625 0.0390625 1.03125 -0.3125 C 0.664062 -0.664062 0.484375 -1.109375 0.484375 -1.640625 C 0.484375 -2.222656 0.664062 -2.675781 1.03125 -3 C 1.394531 -3.320312 1.867188 -3.519531 2.453125 -3.59375 Z M 3.265625 -6.421875 Z M 3.265625 -6.421875 \"/>\n",
       "</symbol>\n",
       "<symbol overflow=\"visible\" id=\"glyph1-16\">\n",
       "<path style=\"stroke:none;\" d=\"M 0.75 -8.609375 L 1.765625 -8.609375 L 1.765625 -3.609375 L 4.46875 -6.28125 L 5.8125 -6.28125 L 3.421875 -3.921875 L 5.953125 0 L 4.609375 0 L 2.65625 -3.171875 L 1.765625 -2.359375 L 1.765625 0 L 0.75 0 Z M 0.75 -8.609375 \"/>\n",
       "</symbol>\n",
       "<symbol overflow=\"visible\" id=\"glyph1-17\">\n",
       "<path style=\"stroke:none;\" d=\"M 0.28125 1.5 L 1.53125 1.5 L 1.53125 -7.8125 L 0.28125 -7.8125 L 0.28125 -8.671875 L 2.53125 -8.671875 L 2.53125 2.359375 L 0.28125 2.359375 Z M 0.28125 1.5 \"/>\n",
       "</symbol>\n",
       "<symbol overflow=\"visible\" id=\"glyph1-18\">\n",
       "<path style=\"stroke:none;\" d=\"M 1.15625 -5.9375 L 1.15625 -6.75 C 1.914062 -6.820312 2.441406 -6.945312 2.734375 -7.125 C 3.035156 -7.300781 3.265625 -7.710938 3.421875 -8.359375 L 4.25 -8.359375 L 4.25 0 L 3.125 0 L 3.125 -5.9375 Z M 1.15625 -5.9375 \"/>\n",
       "</symbol>\n",
       "<symbol overflow=\"visible\" id=\"glyph1-19\">\n",
       "<path style=\"stroke:none;\" d=\"M 3.25 -8.390625 C 4.332031 -8.390625 5.117188 -7.941406 5.609375 -7.046875 C 5.984375 -6.359375 6.171875 -5.410156 6.171875 -4.203125 C 6.171875 -3.066406 6 -2.125 5.65625 -1.375 C 5.164062 -0.300781 4.359375 0.234375 3.234375 0.234375 C 2.234375 0.234375 1.484375 -0.203125 0.984375 -1.078125 C 0.578125 -1.816406 0.375 -2.800781 0.375 -4.03125 C 0.375 -4.976562 0.5 -5.796875 0.75 -6.484375 C 1.207031 -7.753906 2.039062 -8.390625 3.25 -8.390625 Z M 3.234375 -0.734375 C 3.785156 -0.734375 4.222656 -0.972656 4.546875 -1.453125 C 4.867188 -1.941406 5.03125 -2.847656 5.03125 -4.171875 C 5.03125 -5.117188 4.910156 -5.898438 4.671875 -6.515625 C 4.441406 -7.128906 3.988281 -7.4375 3.3125 -7.4375 C 2.6875 -7.4375 2.226562 -7.144531 1.9375 -6.5625 C 1.65625 -5.976562 1.515625 -5.117188 1.515625 -3.984375 C 1.515625 -3.128906 1.609375 -2.441406 1.796875 -1.921875 C 2.078125 -1.128906 2.554688 -0.734375 3.234375 -0.734375 Z M 3.234375 -0.734375 \"/>\n",
       "</symbol>\n",
       "<symbol overflow=\"visible\" id=\"glyph1-20\">\n",
       "<path style=\"stroke:none;\" d=\"M 0.375 0 C 0.414062 -0.71875 0.566406 -1.34375 0.828125 -1.875 C 1.085938 -2.414062 1.59375 -2.90625 2.34375 -3.34375 L 3.46875 -4 C 3.96875 -4.289062 4.320312 -4.539062 4.53125 -4.75 C 4.851562 -5.070312 5.015625 -5.441406 5.015625 -5.859375 C 5.015625 -6.347656 4.863281 -6.734375 4.5625 -7.015625 C 4.269531 -7.304688 3.882812 -7.453125 3.40625 -7.453125 C 2.675781 -7.453125 2.175781 -7.179688 1.90625 -6.640625 C 1.75 -6.335938 1.664062 -5.929688 1.65625 -5.421875 L 0.578125 -5.421875 C 0.585938 -6.148438 0.722656 -6.742188 0.984375 -7.203125 C 1.441406 -8.015625 2.25 -8.421875 3.40625 -8.421875 C 4.363281 -8.421875 5.0625 -8.160156 5.5 -7.640625 C 5.945312 -7.117188 6.171875 -6.539062 6.171875 -5.90625 C 6.171875 -5.238281 5.9375 -4.664062 5.46875 -4.1875 C 5.195312 -3.90625 4.707031 -3.566406 4 -3.171875 L 3.1875 -2.734375 C 2.8125 -2.523438 2.515625 -2.320312 2.296875 -2.125 C 1.898438 -1.789062 1.648438 -1.414062 1.546875 -1 L 6.140625 -1 L 6.140625 0 Z M 0.375 0 \"/>\n",
       "</symbol>\n",
       "<symbol overflow=\"visible\" id=\"glyph1-21\">\n",
       "<path style=\"stroke:none;\" d=\"M 3.96875 -2.96875 L 3.96875 -6.78125 L 1.28125 -2.96875 Z M 3.984375 0 L 3.984375 -2.046875 L 0.3125 -2.046875 L 0.3125 -3.078125 L 4.15625 -8.421875 L 5.046875 -8.421875 L 5.046875 -2.96875 L 6.28125 -2.96875 L 6.28125 -2.046875 L 5.046875 -2.046875 L 5.046875 0 Z M 3.984375 0 \"/>\n",
       "</symbol>\n",
       "<symbol overflow=\"visible\" id=\"glyph1-22\">\n",
       "<path style=\"stroke:none;\" d=\"M 3.515625 -8.421875 C 4.453125 -8.421875 5.101562 -8.175781 5.46875 -7.6875 C 5.84375 -7.207031 6.03125 -6.707031 6.03125 -6.1875 L 4.984375 -6.1875 C 4.921875 -6.519531 4.820312 -6.78125 4.6875 -6.96875 C 4.425781 -7.320312 4.039062 -7.5 3.53125 -7.5 C 2.9375 -7.5 2.460938 -7.222656 2.109375 -6.671875 C 1.765625 -6.128906 1.578125 -5.351562 1.546875 -4.34375 C 1.785156 -4.695312 2.085938 -4.960938 2.453125 -5.140625 C 2.785156 -5.296875 3.160156 -5.375 3.578125 -5.375 C 4.285156 -5.375 4.898438 -5.148438 5.421875 -4.703125 C 5.941406 -4.253906 6.203125 -3.582031 6.203125 -2.6875 C 6.203125 -1.925781 5.953125 -1.25 5.453125 -0.65625 C 4.960938 -0.0703125 4.257812 0.21875 3.34375 0.21875 C 2.550781 0.21875 1.867188 -0.078125 1.296875 -0.671875 C 0.734375 -1.273438 0.453125 -2.28125 0.453125 -3.6875 C 0.453125 -4.726562 0.578125 -5.613281 0.828125 -6.34375 C 1.316406 -7.726562 2.210938 -8.421875 3.515625 -8.421875 Z M 3.4375 -0.71875 C 3.988281 -0.71875 4.398438 -0.90625 4.671875 -1.28125 C 4.953125 -1.65625 5.09375 -2.097656 5.09375 -2.609375 C 5.09375 -3.035156 4.96875 -3.441406 4.71875 -3.828125 C 4.476562 -4.210938 4.03125 -4.40625 3.375 -4.40625 C 2.925781 -4.40625 2.53125 -4.253906 2.1875 -3.953125 C 1.84375 -3.660156 1.671875 -3.210938 1.671875 -2.609375 C 1.671875 -2.078125 1.828125 -1.628906 2.140625 -1.265625 C 2.453125 -0.898438 2.882812 -0.71875 3.4375 -0.71875 Z M 3.4375 -0.71875 \"/>\n",
       "</symbol>\n",
       "<symbol overflow=\"visible\" id=\"glyph1-23\">\n",
       "<path style=\"stroke:none;\" d=\"M 3.265625 -4.875 C 3.734375 -4.875 4.097656 -5.003906 4.359375 -5.265625 C 4.617188 -5.523438 4.75 -5.832031 4.75 -6.1875 C 4.75 -6.5 4.625 -6.785156 4.375 -7.046875 C 4.125 -7.316406 3.742188 -7.453125 3.234375 -7.453125 C 2.722656 -7.453125 2.351562 -7.316406 2.125 -7.046875 C 1.894531 -6.785156 1.78125 -6.484375 1.78125 -6.140625 C 1.78125 -5.742188 1.925781 -5.429688 2.21875 -5.203125 C 2.519531 -4.984375 2.867188 -4.875 3.265625 -4.875 Z M 3.328125 -0.71875 C 3.816406 -0.71875 4.222656 -0.847656 4.546875 -1.109375 C 4.867188 -1.378906 5.03125 -1.773438 5.03125 -2.296875 C 5.03125 -2.835938 4.863281 -3.25 4.53125 -3.53125 C 4.195312 -3.8125 3.769531 -3.953125 3.25 -3.953125 C 2.75 -3.953125 2.335938 -3.804688 2.015625 -3.515625 C 1.703125 -3.234375 1.546875 -2.835938 1.546875 -2.328125 C 1.546875 -1.890625 1.691406 -1.507812 1.984375 -1.1875 C 2.273438 -0.875 2.722656 -0.71875 3.328125 -0.71875 Z M 1.828125 -4.46875 C 1.535156 -4.59375 1.304688 -4.738281 1.140625 -4.90625 C 0.835938 -5.21875 0.6875 -5.625 0.6875 -6.125 C 0.6875 -6.75 0.910156 -7.285156 1.359375 -7.734375 C 1.816406 -8.191406 2.457031 -8.421875 3.28125 -8.421875 C 4.09375 -8.421875 4.722656 -8.207031 5.171875 -7.78125 C 5.628906 -7.351562 5.859375 -6.859375 5.859375 -6.296875 C 5.859375 -5.773438 5.726562 -5.347656 5.46875 -5.015625 C 5.320312 -4.835938 5.09375 -4.660156 4.78125 -4.484375 C 5.125 -4.328125 5.394531 -4.144531 5.59375 -3.9375 C 5.96875 -3.539062 6.15625 -3.03125 6.15625 -2.40625 C 6.15625 -1.664062 5.90625 -1.039062 5.40625 -0.53125 C 4.914062 -0.0195312 4.21875 0.234375 3.3125 0.234375 C 2.488281 0.234375 1.796875 0.015625 1.234375 -0.421875 C 0.671875 -0.867188 0.390625 -1.515625 0.390625 -2.359375 C 0.390625 -2.847656 0.507812 -3.273438 0.75 -3.640625 C 0.988281 -4.003906 1.347656 -4.28125 1.828125 -4.46875 Z M 1.828125 -4.46875 \"/>\n",
       "</symbol>\n",
       "<symbol overflow=\"visible\" id=\"glyph2-0\">\n",
       "<path style=\"stroke:none;\" d=\"M 0 -0.390625 L -8.609375 -0.390625 L -8.609375 -7.21875 L 0 -7.21875 Z M -1.078125 -6.140625 L -7.53125 -6.140625 L -7.53125 -1.46875 L -1.078125 -1.46875 Z M -1.078125 -6.140625 \"/>\n",
       "</symbol>\n",
       "<symbol overflow=\"visible\" id=\"glyph2-1\">\n",
       "<path style=\"stroke:none;\" d=\"M -8.609375 -1.03125 L -8.609375 -7 L -7.546875 -7 L -7.546875 -2.1875 L -4.9375 -2.1875 L -4.9375 -6.421875 L -3.921875 -6.421875 L -3.921875 -2.1875 L 0 -2.1875 L 0 -1.03125 Z M -8.609375 -1.03125 \"/>\n",
       "</symbol>\n",
       "<symbol overflow=\"visible\" id=\"glyph2-2\">\n",
       "<path style=\"stroke:none;\" d=\"M -6.28125 -0.796875 L -6.28125 -1.8125 L -5.1875 -1.8125 C -5.40625 -1.882812 -5.664062 -2.082031 -5.96875 -2.40625 C -6.269531 -2.726562 -6.421875 -3.097656 -6.421875 -3.515625 C -6.421875 -3.535156 -6.414062 -3.566406 -6.40625 -3.609375 C -6.40625 -3.660156 -6.398438 -3.742188 -6.390625 -3.859375 L -5.28125 -3.859375 C -5.289062 -3.796875 -5.296875 -3.738281 -5.296875 -3.6875 C -5.296875 -3.632812 -5.296875 -3.578125 -5.296875 -3.515625 C -5.296875 -2.984375 -5.125 -2.570312 -4.78125 -2.28125 C -4.445312 -2 -4.054688 -1.859375 -3.609375 -1.859375 L 0 -1.859375 L 0 -0.796875 Z M -6.28125 -0.796875 \"/>\n",
       "</symbol>\n",
       "<symbol overflow=\"visible\" id=\"glyph2-3\">\n",
       "<path style=\"stroke:none;\" d=\"M -6.421875 -3.390625 C -6.421875 -3.835938 -6.316406 -4.269531 -6.109375 -4.6875 C -5.898438 -5.101562 -5.628906 -5.421875 -5.296875 -5.640625 C -4.972656 -5.847656 -4.601562 -5.988281 -4.1875 -6.0625 C -3.894531 -6.125 -3.429688 -6.15625 -2.796875 -6.15625 L -2.796875 -1.546875 C -2.160156 -1.566406 -1.648438 -1.71875 -1.265625 -2 C -0.878906 -2.28125 -0.6875 -2.71875 -0.6875 -3.3125 C -0.6875 -3.863281 -0.867188 -4.300781 -1.234375 -4.625 C -1.441406 -4.8125 -1.6875 -4.945312 -1.96875 -5.03125 L -1.96875 -6.0625 C -1.738281 -6.039062 -1.484375 -5.953125 -1.203125 -5.796875 C -0.921875 -5.640625 -0.6875 -5.46875 -0.5 -5.28125 C -0.1875 -4.957031 0.0195312 -4.554688 0.125 -4.078125 C 0.1875 -3.828125 0.21875 -3.539062 0.21875 -3.21875 C 0.21875 -2.4375 -0.0625 -1.773438 -0.625 -1.234375 C -1.195312 -0.691406 -1.992188 -0.421875 -3.015625 -0.421875 C -4.023438 -0.421875 -4.84375 -0.691406 -5.46875 -1.234375 C -6.101562 -1.785156 -6.421875 -2.503906 -6.421875 -3.390625 Z M -3.640625 -5.0625 C -4.097656 -5.019531 -4.460938 -4.921875 -4.734375 -4.765625 C -5.242188 -4.484375 -5.5 -4.003906 -5.5 -3.328125 C -5.5 -2.835938 -5.320312 -2.425781 -4.96875 -2.09375 C -4.625 -1.769531 -4.179688 -1.597656 -3.640625 -1.578125 Z M -6.421875 -3.28125 Z M -6.421875 -3.28125 \"/>\n",
       "</symbol>\n",
       "<symbol overflow=\"visible\" id=\"glyph2-4\">\n",
       "<path style=\"stroke:none;\" d=\"M -3.046875 -1.453125 C -2.503906 -1.453125 -2.050781 -1.53125 -1.6875 -1.6875 C -1.03125 -1.957031 -0.703125 -2.4375 -0.703125 -3.125 C -0.703125 -3.863281 -1.046875 -4.367188 -1.734375 -4.640625 C -2.117188 -4.796875 -2.601562 -4.875 -3.1875 -4.875 C -3.738281 -4.875 -4.191406 -4.789062 -4.546875 -4.625 C -5.171875 -4.34375 -5.484375 -3.84375 -5.484375 -3.125 C -5.484375 -2.664062 -5.285156 -2.269531 -4.890625 -1.9375 C -4.492188 -1.613281 -3.878906 -1.453125 -3.046875 -1.453125 Z M -6.421875 -3.015625 C -6.421875 -3.535156 -6.289062 -3.972656 -6.03125 -4.328125 C -5.882812 -4.523438 -5.675781 -4.710938 -5.40625 -4.890625 L -6.28125 -4.890625 L -6.28125 -5.890625 L 2.5 -5.890625 L 2.5 -4.828125 L -0.71875 -4.828125 C -0.4375 -4.648438 -0.210938 -4.40625 -0.046875 -4.09375 C 0.117188 -3.789062 0.203125 -3.40625 0.203125 -2.9375 C 0.203125 -2.269531 -0.0546875 -1.671875 -0.578125 -1.140625 C -1.109375 -0.617188 -1.910156 -0.359375 -2.984375 -0.359375 C -3.984375 -0.359375 -4.804688 -0.601562 -5.453125 -1.09375 C -6.097656 -1.582031 -6.421875 -2.222656 -6.421875 -3.015625 Z M -6.421875 -3.015625 \"/>\n",
       "</symbol>\n",
       "<symbol overflow=\"visible\" id=\"glyph2-5\">\n",
       "<path style=\"stroke:none;\" d=\"M -6.28125 -1.828125 L -2.109375 -1.828125 C -1.785156 -1.828125 -1.523438 -1.878906 -1.328125 -1.984375 C -0.953125 -2.171875 -0.765625 -2.519531 -0.765625 -3.03125 C -0.765625 -3.757812 -1.09375 -4.257812 -1.75 -4.53125 C -2.101562 -4.675781 -2.582031 -4.75 -3.1875 -4.75 L -6.28125 -4.75 L -6.28125 -5.796875 L 0 -5.796875 L 0 -4.8125 L -0.921875 -4.8125 C -0.679688 -4.675781 -0.484375 -4.507812 -0.328125 -4.3125 C 0.00390625 -3.90625 0.171875 -3.414062 0.171875 -2.84375 C 0.171875 -1.945312 -0.128906 -1.335938 -0.734375 -1.015625 C -1.046875 -0.835938 -1.472656 -0.75 -2.015625 -0.75 L -6.28125 -0.75 Z M -6.421875 -3.28125 Z M -6.421875 -3.28125 \"/>\n",
       "</symbol>\n",
       "<symbol overflow=\"visible\" id=\"glyph2-6\">\n",
       "<path style=\"stroke:none;\" d=\"M -6.28125 -0.78125 L -6.28125 -1.78125 L -5.390625 -1.78125 C -5.753906 -2.070312 -6.015625 -2.382812 -6.171875 -2.71875 C -6.335938 -3.050781 -6.421875 -3.421875 -6.421875 -3.828125 C -6.421875 -4.710938 -6.109375 -5.3125 -5.484375 -5.625 C -5.140625 -5.800781 -4.65625 -5.890625 -4.03125 -5.890625 L 0 -5.890625 L 0 -4.8125 L -3.953125 -4.8125 C -4.335938 -4.8125 -4.644531 -4.753906 -4.875 -4.640625 C -5.269531 -4.453125 -5.46875 -4.113281 -5.46875 -3.625 C -5.46875 -3.375 -5.441406 -3.171875 -5.390625 -3.015625 C -5.304688 -2.722656 -5.132812 -2.46875 -4.875 -2.25 C -4.664062 -2.070312 -4.453125 -1.957031 -4.234375 -1.90625 C -4.015625 -1.851562 -3.695312 -1.828125 -3.28125 -1.828125 L 0 -1.828125 L 0 -0.78125 Z M -6.421875 -3.25 Z M -6.421875 -3.25 \"/>\n",
       "</symbol>\n",
       "<symbol overflow=\"visible\" id=\"glyph2-7\">\n",
       "<path style=\"stroke:none;\" d=\"M -6.453125 -3.1875 C -6.453125 -3.894531 -6.28125 -4.46875 -5.9375 -4.90625 C -5.59375 -5.351562 -5.003906 -5.625 -4.171875 -5.71875 L -4.171875 -4.6875 C -4.554688 -4.625 -4.875 -4.484375 -5.125 -4.265625 C -5.382812 -4.046875 -5.515625 -3.6875 -5.515625 -3.1875 C -5.515625 -2.519531 -5.1875 -2.039062 -4.53125 -1.75 C -4.101562 -1.5625 -3.578125 -1.46875 -2.953125 -1.46875 C -2.328125 -1.46875 -1.796875 -1.597656 -1.359375 -1.859375 C -0.929688 -2.128906 -0.71875 -2.550781 -0.71875 -3.125 C -0.71875 -3.5625 -0.851562 -3.90625 -1.125 -4.15625 C -1.394531 -4.414062 -1.757812 -4.59375 -2.21875 -4.6875 L -2.21875 -5.71875 C -1.382812 -5.601562 -0.773438 -5.3125 -0.390625 -4.84375 C -0.00390625 -4.375 0.1875 -3.773438 0.1875 -3.046875 C 0.1875 -2.222656 -0.113281 -1.566406 -0.71875 -1.078125 C -1.320312 -0.585938 -2.070312 -0.34375 -2.96875 -0.34375 C -4.070312 -0.34375 -4.925781 -0.609375 -5.53125 -1.140625 C -6.144531 -1.679688 -6.453125 -2.363281 -6.453125 -3.1875 Z M -6.421875 -3.03125 Z M -6.421875 -3.03125 \"/>\n",
       "</symbol>\n",
       "<symbol overflow=\"visible\" id=\"glyph2-8\">\n",
       "<path style=\"stroke:none;\" d=\"M -6.28125 -4.6875 L -6.28125 -5.859375 C -5.875 -5.710938 -4.953125 -5.382812 -3.515625 -4.875 C -2.441406 -4.488281 -1.566406 -4.164062 -0.890625 -3.90625 C 0.710938 -3.300781 1.691406 -2.875 2.046875 -2.625 C 2.398438 -2.375 2.578125 -1.941406 2.578125 -1.328125 C 2.578125 -1.179688 2.566406 -1.066406 2.546875 -0.984375 C 2.535156 -0.910156 2.515625 -0.8125 2.484375 -0.6875 L 1.53125 -0.6875 C 1.582031 -0.875 1.613281 -1.007812 1.625 -1.09375 C 1.632812 -1.175781 1.640625 -1.25 1.640625 -1.3125 C 1.640625 -1.5 1.609375 -1.640625 1.546875 -1.734375 C 1.484375 -1.828125 1.40625 -1.90625 1.3125 -1.96875 C 1.28125 -1.988281 1.117188 -2.054688 0.828125 -2.171875 C 0.535156 -2.296875 0.320312 -2.382812 0.1875 -2.4375 L -6.28125 -0.125 L -6.28125 -1.3125 L -1.171875 -3 Z M -6.421875 -3 Z M -6.421875 -3 \"/>\n",
       "</symbol>\n",
       "<symbol overflow=\"visible\" id=\"glyph2-9\">\n",
       "<path style=\"stroke:none;\" d=\"M -8.390625 -3.25 C -8.390625 -4.332031 -7.941406 -5.117188 -7.046875 -5.609375 C -6.359375 -5.984375 -5.410156 -6.171875 -4.203125 -6.171875 C -3.066406 -6.171875 -2.125 -6 -1.375 -5.65625 C -0.300781 -5.164062 0.234375 -4.359375 0.234375 -3.234375 C 0.234375 -2.234375 -0.203125 -1.484375 -1.078125 -0.984375 C -1.816406 -0.578125 -2.800781 -0.375 -4.03125 -0.375 C -4.976562 -0.375 -5.796875 -0.5 -6.484375 -0.75 C -7.753906 -1.207031 -8.390625 -2.039062 -8.390625 -3.25 Z M -0.734375 -3.234375 C -0.734375 -3.785156 -0.972656 -4.222656 -1.453125 -4.546875 C -1.941406 -4.867188 -2.847656 -5.03125 -4.171875 -5.03125 C -5.117188 -5.03125 -5.898438 -4.910156 -6.515625 -4.671875 C -7.128906 -4.441406 -7.4375 -3.988281 -7.4375 -3.3125 C -7.4375 -2.6875 -7.144531 -2.226562 -6.5625 -1.9375 C -5.976562 -1.65625 -5.117188 -1.515625 -3.984375 -1.515625 C -3.128906 -1.515625 -2.441406 -1.609375 -1.921875 -1.796875 C -1.128906 -2.078125 -0.734375 -2.554688 -0.734375 -3.234375 Z M -0.734375 -3.234375 \"/>\n",
       "</symbol>\n",
       "<symbol overflow=\"visible\" id=\"glyph2-10\">\n",
       "<path style=\"stroke:none;\" d=\"M 0 -0.375 C -0.71875 -0.414062 -1.34375 -0.566406 -1.875 -0.828125 C -2.414062 -1.085938 -2.90625 -1.59375 -3.34375 -2.34375 L -4 -3.46875 C -4.289062 -3.96875 -4.539062 -4.320312 -4.75 -4.53125 C -5.070312 -4.851562 -5.441406 -5.015625 -5.859375 -5.015625 C -6.347656 -5.015625 -6.734375 -4.863281 -7.015625 -4.5625 C -7.304688 -4.269531 -7.453125 -3.882812 -7.453125 -3.40625 C -7.453125 -2.675781 -7.179688 -2.175781 -6.640625 -1.90625 C -6.335938 -1.75 -5.929688 -1.664062 -5.421875 -1.65625 L -5.421875 -0.578125 C -6.148438 -0.585938 -6.742188 -0.722656 -7.203125 -0.984375 C -8.015625 -1.441406 -8.421875 -2.25 -8.421875 -3.40625 C -8.421875 -4.363281 -8.160156 -5.0625 -7.640625 -5.5 C -7.117188 -5.945312 -6.539062 -6.171875 -5.90625 -6.171875 C -5.238281 -6.171875 -4.664062 -5.9375 -4.1875 -5.46875 C -3.90625 -5.195312 -3.566406 -4.707031 -3.171875 -4 L -2.734375 -3.1875 C -2.523438 -2.8125 -2.320312 -2.515625 -2.125 -2.296875 C -1.789062 -1.898438 -1.414062 -1.648438 -1 -1.546875 L -1 -6.140625 L 0 -6.140625 Z M 0 -0.375 \"/>\n",
       "</symbol>\n",
       "<symbol overflow=\"visible\" id=\"glyph2-11\">\n",
       "<path style=\"stroke:none;\" d=\"M -2.96875 -3.96875 L -6.78125 -3.96875 L -2.96875 -1.28125 Z M 0 -3.984375 L -2.046875 -3.984375 L -2.046875 -0.3125 L -3.078125 -0.3125 L -8.421875 -4.15625 L -8.421875 -5.046875 L -2.96875 -5.046875 L -2.96875 -6.28125 L -2.046875 -6.28125 L -2.046875 -5.046875 L 0 -5.046875 Z M 0 -3.984375 \"/>\n",
       "</symbol>\n",
       "<symbol overflow=\"visible\" id=\"glyph2-12\">\n",
       "<path style=\"stroke:none;\" d=\"M -8.421875 -3.515625 C -8.421875 -4.453125 -8.175781 -5.101562 -7.6875 -5.46875 C -7.207031 -5.84375 -6.707031 -6.03125 -6.1875 -6.03125 L -6.1875 -4.984375 C -6.519531 -4.921875 -6.78125 -4.820312 -6.96875 -4.6875 C -7.320312 -4.425781 -7.5 -4.039062 -7.5 -3.53125 C -7.5 -2.9375 -7.222656 -2.460938 -6.671875 -2.109375 C -6.128906 -1.765625 -5.351562 -1.578125 -4.34375 -1.546875 C -4.695312 -1.785156 -4.960938 -2.085938 -5.140625 -2.453125 C -5.296875 -2.785156 -5.375 -3.160156 -5.375 -3.578125 C -5.375 -4.285156 -5.148438 -4.898438 -4.703125 -5.421875 C -4.253906 -5.941406 -3.582031 -6.203125 -2.6875 -6.203125 C -1.925781 -6.203125 -1.25 -5.953125 -0.65625 -5.453125 C -0.0703125 -4.960938 0.21875 -4.257812 0.21875 -3.34375 C 0.21875 -2.550781 -0.078125 -1.867188 -0.671875 -1.296875 C -1.273438 -0.734375 -2.28125 -0.453125 -3.6875 -0.453125 C -4.726562 -0.453125 -5.613281 -0.578125 -6.34375 -0.828125 C -7.726562 -1.316406 -8.421875 -2.210938 -8.421875 -3.515625 Z M -0.71875 -3.4375 C -0.71875 -3.988281 -0.90625 -4.398438 -1.28125 -4.671875 C -1.65625 -4.953125 -2.097656 -5.09375 -2.609375 -5.09375 C -3.035156 -5.09375 -3.441406 -4.96875 -3.828125 -4.71875 C -4.210938 -4.476562 -4.40625 -4.03125 -4.40625 -3.375 C -4.40625 -2.925781 -4.253906 -2.53125 -3.953125 -2.1875 C -3.660156 -1.84375 -3.210938 -1.671875 -2.609375 -1.671875 C -2.078125 -1.671875 -1.628906 -1.828125 -1.265625 -2.140625 C -0.898438 -2.453125 -0.71875 -2.882812 -0.71875 -3.4375 Z M -0.71875 -3.4375 \"/>\n",
       "</symbol>\n",
       "</g>\n",
       "</defs>\n",
       "<g id=\"surface41\">\n",
       "<rect x=\"0\" y=\"0\" width=\"504\" height=\"504\" style=\"fill:rgb(100%,100%,100%);fill-opacity:1;stroke:none;\"/>\n",
       "<g style=\"fill:rgb(0%,0%,0%);fill-opacity:1;\">\n",
       "  <use xlink:href=\"#glyph0-1\" x=\"118.679688\" y=\"34.707031\"/>\n",
       "  <use xlink:href=\"#glyph0-2\" x=\"129.08342\" y=\"34.707031\"/>\n",
       "  <use xlink:href=\"#glyph0-3\" x=\"133.085938\" y=\"34.707031\"/>\n",
       "  <use xlink:href=\"#glyph0-4\" x=\"141.098007\" y=\"34.707031\"/>\n",
       "  <use xlink:href=\"#glyph0-5\" x=\"145.895401\" y=\"34.707031\"/>\n",
       "  <use xlink:href=\"#glyph0-6\" x=\"154.695312\" y=\"34.707031\"/>\n",
       "  <use xlink:href=\"#glyph0-7\" x=\"163.495224\" y=\"34.707031\"/>\n",
       "  <use xlink:href=\"#glyph0-8\" x=\"169.101562\" y=\"34.707031\"/>\n",
       "  <use xlink:href=\"#glyph0-9\" x=\"177.113632\" y=\"34.707031\"/>\n",
       "  <use xlink:href=\"#glyph0-10\" x=\"189.923096\" y=\"34.707031\"/>\n",
       "  <use xlink:href=\"#glyph0-5\" x=\"193.925613\" y=\"34.707031\"/>\n",
       "  <use xlink:href=\"#glyph0-11\" x=\"202.725525\" y=\"34.707031\"/>\n",
       "  <use xlink:href=\"#glyph0-10\" x=\"207.522919\" y=\"34.707031\"/>\n",
       "  <use xlink:href=\"#glyph0-5\" x=\"211.525436\" y=\"34.707031\"/>\n",
       "  <use xlink:href=\"#glyph0-12\" x=\"220.325348\" y=\"34.707031\"/>\n",
       "  <use xlink:href=\"#glyph0-4\" x=\"229.125259\" y=\"34.707031\"/>\n",
       "  <use xlink:href=\"#glyph0-13\" x=\"233.922653\" y=\"34.707031\"/>\n",
       "  <use xlink:href=\"#glyph0-5\" x=\"241.934723\" y=\"34.707031\"/>\n",
       "  <use xlink:href=\"#glyph0-9\" x=\"250.734634\" y=\"34.707031\"/>\n",
       "  <use xlink:href=\"#glyph0-14\" x=\"263.544098\" y=\"34.707031\"/>\n",
       "  <use xlink:href=\"#glyph0-15\" x=\"271.556168\" y=\"34.707031\"/>\n",
       "  <use xlink:href=\"#glyph0-7\" x=\"279.568237\" y=\"34.707031\"/>\n",
       "  <use xlink:href=\"#glyph0-14\" x=\"285.174576\" y=\"34.707031\"/>\n",
       "  <use xlink:href=\"#glyph0-16\" x=\"293.186646\" y=\"34.707031\"/>\n",
       "  <use xlink:href=\"#glyph0-17\" x=\"301.986557\" y=\"34.707031\"/>\n",
       "  <use xlink:href=\"#glyph0-18\" x=\"306.783951\" y=\"34.707031\"/>\n",
       "  <use xlink:href=\"#glyph0-10\" x=\"310.786469\" y=\"34.707031\"/>\n",
       "  <use xlink:href=\"#glyph0-19\" x=\"314.788986\" y=\"34.707031\"/>\n",
       "  <use xlink:href=\"#glyph0-20\" x=\"321.619293\" y=\"34.707031\"/>\n",
       "  <use xlink:href=\"#glyph0-14\" x=\"330.419205\" y=\"34.707031\"/>\n",
       "  <use xlink:href=\"#glyph0-8\" x=\"338.431274\" y=\"34.707031\"/>\n",
       "  <use xlink:href=\"#glyph0-7\" x=\"346.443344\" y=\"34.707031\"/>\n",
       "  <use xlink:href=\"#glyph0-4\" x=\"352.049683\" y=\"34.707031\"/>\n",
       "  <use xlink:href=\"#glyph0-10\" x=\"356.847076\" y=\"34.707031\"/>\n",
       "  <use xlink:href=\"#glyph0-8\" x=\"360.849594\" y=\"34.707031\"/>\n",
       "  <use xlink:href=\"#glyph0-4\" x=\"368.861664\" y=\"34.707031\"/>\n",
       "  <use xlink:href=\"#glyph0-4\" x=\"373.659058\" y=\"34.707031\"/>\n",
       "  <use xlink:href=\"#glyph0-8\" x=\"378.456451\" y=\"34.707031\"/>\n",
       "  <use xlink:href=\"#glyph0-13\" x=\"386.468521\" y=\"34.707031\"/>\n",
       "  <use xlink:href=\"#glyph0-21\" x=\"394.480591\" y=\"34.707031\"/>\n",
       "  <use xlink:href=\"#glyph0-19\" x=\"402.492661\" y=\"34.707031\"/>\n",
       "  <use xlink:href=\"#glyph0-22\" x=\"409.322968\" y=\"34.707031\"/>\n",
       "</g>\n",
       "<g style=\"fill:rgb(0%,0%,0%);fill-opacity:1;\">\n",
       "  <use xlink:href=\"#glyph1-1\" x=\"189.097656\" y=\"485.28125\"/>\n",
       "  <use xlink:href=\"#glyph1-2\" x=\"195.771484\" y=\"485.28125\"/>\n",
       "  <use xlink:href=\"#glyph1-3\" x=\"202.445312\" y=\"485.28125\"/>\n",
       "  <use xlink:href=\"#glyph1-4\" x=\"205.779297\" y=\"485.28125\"/>\n",
       "  <use xlink:href=\"#glyph1-1\" x=\"211.779297\" y=\"485.28125\"/>\n",
       "  <use xlink:href=\"#glyph1-5\" x=\"218.453125\" y=\"485.28125\"/>\n",
       "  <use xlink:href=\"#glyph1-6\" x=\"228.449219\" y=\"485.28125\"/>\n",
       "  <use xlink:href=\"#glyph1-7\" x=\"235.123047\" y=\"485.28125\"/>\n",
       "  <use xlink:href=\"#glyph1-8\" x=\"241.796875\" y=\"485.28125\"/>\n",
       "  <use xlink:href=\"#glyph1-6\" x=\"245.792969\" y=\"485.28125\"/>\n",
       "  <use xlink:href=\"#glyph1-9\" x=\"252.466797\" y=\"485.28125\"/>\n",
       "  <use xlink:href=\"#glyph1-10\" x=\"259.140625\" y=\"485.28125\"/>\n",
       "  <use xlink:href=\"#glyph1-11\" x=\"262.474609\" y=\"485.28125\"/>\n",
       "  <use xlink:href=\"#glyph1-12\" x=\"265.808594\" y=\"485.28125\"/>\n",
       "  <use xlink:href=\"#glyph1-13\" x=\"269.142578\" y=\"485.28125\"/>\n",
       "  <use xlink:href=\"#glyph1-14\" x=\"273.402344\" y=\"485.28125\"/>\n",
       "  <use xlink:href=\"#glyph1-6\" x=\"280.076172\" y=\"485.28125\"/>\n",
       "  <use xlink:href=\"#glyph1-15\" x=\"286.75\" y=\"485.28125\"/>\n",
       "  <use xlink:href=\"#glyph1-8\" x=\"293.423828\" y=\"485.28125\"/>\n",
       "  <use xlink:href=\"#glyph1-3\" x=\"297.419922\" y=\"485.28125\"/>\n",
       "  <use xlink:href=\"#glyph1-12\" x=\"300.753906\" y=\"485.28125\"/>\n",
       "  <use xlink:href=\"#glyph1-15\" x=\"304.087891\" y=\"485.28125\"/>\n",
       "  <use xlink:href=\"#glyph1-3\" x=\"310.761719\" y=\"485.28125\"/>\n",
       "  <use xlink:href=\"#glyph1-3\" x=\"314.095703\" y=\"485.28125\"/>\n",
       "  <use xlink:href=\"#glyph1-15\" x=\"317.429688\" y=\"485.28125\"/>\n",
       "  <use xlink:href=\"#glyph1-4\" x=\"324.103516\" y=\"485.28125\"/>\n",
       "  <use xlink:href=\"#glyph1-16\" x=\"330.103516\" y=\"485.28125\"/>\n",
       "  <use xlink:href=\"#glyph1-13\" x=\"336.103516\" y=\"485.28125\"/>\n",
       "  <use xlink:href=\"#glyph1-17\" x=\"340.363281\" y=\"485.28125\"/>\n",
       "</g>\n",
       "<g style=\"fill:rgb(0%,0%,0%);fill-opacity:1;\">\n",
       "  <use xlink:href=\"#glyph2-1\" x=\"12.960938\" y=\"273.148438\"/>\n",
       "  <use xlink:href=\"#glyph2-2\" x=\"12.960938\" y=\"265.818359\"/>\n",
       "  <use xlink:href=\"#glyph2-3\" x=\"12.960938\" y=\"261.822266\"/>\n",
       "  <use xlink:href=\"#glyph2-4\" x=\"12.960938\" y=\"255.148438\"/>\n",
       "  <use xlink:href=\"#glyph2-5\" x=\"12.960938\" y=\"248.474609\"/>\n",
       "  <use xlink:href=\"#glyph2-3\" x=\"12.960938\" y=\"241.800781\"/>\n",
       "  <use xlink:href=\"#glyph2-6\" x=\"12.960938\" y=\"235.126953\"/>\n",
       "  <use xlink:href=\"#glyph2-7\" x=\"12.960938\" y=\"228.453125\"/>\n",
       "  <use xlink:href=\"#glyph2-8\" x=\"12.960938\" y=\"222.453125\"/>\n",
       "</g>\n",
       "<path style=\"fill:none;stroke-width:0.75;stroke-linecap:round;stroke-linejoin:round;stroke:rgb(0%,0%,0%);stroke-opacity:1;stroke-miterlimit:10;\" d=\"M 74.398438 430.558594 L 458.398438 430.558594 \"/>\n",
       "<path style=\"fill:none;stroke-width:0.75;stroke-linecap:round;stroke-linejoin:round;stroke:rgb(0%,0%,0%);stroke-opacity:1;stroke-miterlimit:10;\" d=\"M 74.398438 430.558594 L 74.398438 437.761719 \"/>\n",
       "<path style=\"fill:none;stroke-width:0.75;stroke-linecap:round;stroke-linejoin:round;stroke:rgb(0%,0%,0%);stroke-opacity:1;stroke-miterlimit:10;\" d=\"M 138.398438 430.558594 L 138.398438 437.761719 \"/>\n",
       "<path style=\"fill:none;stroke-width:0.75;stroke-linecap:round;stroke-linejoin:round;stroke:rgb(0%,0%,0%);stroke-opacity:1;stroke-miterlimit:10;\" d=\"M 202.398438 430.558594 L 202.398438 437.761719 \"/>\n",
       "<path style=\"fill:none;stroke-width:0.75;stroke-linecap:round;stroke-linejoin:round;stroke:rgb(0%,0%,0%);stroke-opacity:1;stroke-miterlimit:10;\" d=\"M 266.398438 430.558594 L 266.398438 437.761719 \"/>\n",
       "<path style=\"fill:none;stroke-width:0.75;stroke-linecap:round;stroke-linejoin:round;stroke:rgb(0%,0%,0%);stroke-opacity:1;stroke-miterlimit:10;\" d=\"M 330.398438 430.558594 L 330.398438 437.761719 \"/>\n",
       "<path style=\"fill:none;stroke-width:0.75;stroke-linecap:round;stroke-linejoin:round;stroke:rgb(0%,0%,0%);stroke-opacity:1;stroke-miterlimit:10;\" d=\"M 394.398438 430.558594 L 394.398438 437.761719 \"/>\n",
       "<path style=\"fill:none;stroke-width:0.75;stroke-linecap:round;stroke-linejoin:round;stroke:rgb(0%,0%,0%);stroke-opacity:1;stroke-miterlimit:10;\" d=\"M 458.398438 430.558594 L 458.398438 437.761719 \"/>\n",
       "<g style=\"fill:rgb(0%,0%,0%);fill-opacity:1;\">\n",
       "  <use xlink:href=\"#glyph1-18\" x=\"67.726562\" y=\"456.480469\"/>\n",
       "  <use xlink:href=\"#glyph1-19\" x=\"74.400391\" y=\"456.480469\"/>\n",
       "</g>\n",
       "<g style=\"fill:rgb(0%,0%,0%);fill-opacity:1;\">\n",
       "  <use xlink:href=\"#glyph1-18\" x=\"131.726562\" y=\"456.480469\"/>\n",
       "  <use xlink:href=\"#glyph1-20\" x=\"138.400391\" y=\"456.480469\"/>\n",
       "</g>\n",
       "<g style=\"fill:rgb(0%,0%,0%);fill-opacity:1;\">\n",
       "  <use xlink:href=\"#glyph1-18\" x=\"195.726562\" y=\"456.480469\"/>\n",
       "  <use xlink:href=\"#glyph1-21\" x=\"202.400391\" y=\"456.480469\"/>\n",
       "</g>\n",
       "<g style=\"fill:rgb(0%,0%,0%);fill-opacity:1;\">\n",
       "  <use xlink:href=\"#glyph1-18\" x=\"259.726562\" y=\"456.480469\"/>\n",
       "  <use xlink:href=\"#glyph1-22\" x=\"266.400391\" y=\"456.480469\"/>\n",
       "</g>\n",
       "<g style=\"fill:rgb(0%,0%,0%);fill-opacity:1;\">\n",
       "  <use xlink:href=\"#glyph1-18\" x=\"323.726562\" y=\"456.480469\"/>\n",
       "  <use xlink:href=\"#glyph1-23\" x=\"330.400391\" y=\"456.480469\"/>\n",
       "</g>\n",
       "<g style=\"fill:rgb(0%,0%,0%);fill-opacity:1;\">\n",
       "  <use xlink:href=\"#glyph1-20\" x=\"387.726562\" y=\"456.480469\"/>\n",
       "  <use xlink:href=\"#glyph1-19\" x=\"394.400391\" y=\"456.480469\"/>\n",
       "</g>\n",
       "<g style=\"fill:rgb(0%,0%,0%);fill-opacity:1;\">\n",
       "  <use xlink:href=\"#glyph1-20\" x=\"451.726562\" y=\"456.480469\"/>\n",
       "  <use xlink:href=\"#glyph1-20\" x=\"458.400391\" y=\"456.480469\"/>\n",
       "</g>\n",
       "<path style=\"fill:none;stroke-width:0.75;stroke-linecap:round;stroke-linejoin:round;stroke:rgb(0%,0%,0%);stroke-opacity:1;stroke-miterlimit:10;\" d=\"M 59.039062 416.800781 L 59.039062 145.933594 \"/>\n",
       "<path style=\"fill:none;stroke-width:0.75;stroke-linecap:round;stroke-linejoin:round;stroke:rgb(0%,0%,0%);stroke-opacity:1;stroke-miterlimit:10;\" d=\"M 59.039062 416.800781 L 51.839844 416.800781 \"/>\n",
       "<path style=\"fill:none;stroke-width:0.75;stroke-linecap:round;stroke-linejoin:round;stroke:rgb(0%,0%,0%);stroke-opacity:1;stroke-miterlimit:10;\" d=\"M 59.039062 326.511719 L 51.839844 326.511719 \"/>\n",
       "<path style=\"fill:none;stroke-width:0.75;stroke-linecap:round;stroke-linejoin:round;stroke:rgb(0%,0%,0%);stroke-opacity:1;stroke-miterlimit:10;\" d=\"M 59.039062 236.222656 L 51.839844 236.222656 \"/>\n",
       "<path style=\"fill:none;stroke-width:0.75;stroke-linecap:round;stroke-linejoin:round;stroke:rgb(0%,0%,0%);stroke-opacity:1;stroke-miterlimit:10;\" d=\"M 59.039062 145.933594 L 51.839844 145.933594 \"/>\n",
       "<g style=\"fill:rgb(0%,0%,0%);fill-opacity:1;\">\n",
       "  <use xlink:href=\"#glyph2-9\" x=\"41.761719\" y=\"420.136719\"/>\n",
       "</g>\n",
       "<g style=\"fill:rgb(0%,0%,0%);fill-opacity:1;\">\n",
       "  <use xlink:href=\"#glyph2-10\" x=\"41.761719\" y=\"336.523438\"/>\n",
       "  <use xlink:href=\"#glyph2-9\" x=\"41.761719\" y=\"329.849609\"/>\n",
       "  <use xlink:href=\"#glyph2-9\" x=\"41.761719\" y=\"323.175781\"/>\n",
       "</g>\n",
       "<g style=\"fill:rgb(0%,0%,0%);fill-opacity:1;\">\n",
       "  <use xlink:href=\"#glyph2-11\" x=\"41.761719\" y=\"246.234375\"/>\n",
       "  <use xlink:href=\"#glyph2-9\" x=\"41.761719\" y=\"239.560547\"/>\n",
       "  <use xlink:href=\"#glyph2-9\" x=\"41.761719\" y=\"232.886719\"/>\n",
       "</g>\n",
       "<g style=\"fill:rgb(0%,0%,0%);fill-opacity:1;\">\n",
       "  <use xlink:href=\"#glyph2-12\" x=\"41.761719\" y=\"155.945312\"/>\n",
       "  <use xlink:href=\"#glyph2-9\" x=\"41.761719\" y=\"149.271484\"/>\n",
       "  <use xlink:href=\"#glyph2-9\" x=\"41.761719\" y=\"142.597656\"/>\n",
       "</g>\n",
       "<path style=\"fill:none;stroke-width:0.75;stroke-linecap:round;stroke-linejoin:round;stroke:rgb(0%,0%,0%);stroke-opacity:1;stroke-miterlimit:10;\" d=\"M 74.398438 416.800781 L 106.398438 416.800781 L 106.398438 413.1875 L 74.398438 413.1875 Z M 74.398438 416.800781 \"/>\n",
       "<path style=\"fill:none;stroke-width:0.75;stroke-linecap:round;stroke-linejoin:round;stroke:rgb(0%,0%,0%);stroke-opacity:1;stroke-miterlimit:10;\" d=\"M 106.398438 416.800781 L 138.398438 416.800781 L 138.398438 407.773438 L 106.398438 407.773438 Z M 106.398438 416.800781 \"/>\n",
       "<path style=\"fill:none;stroke-width:0.75;stroke-linecap:round;stroke-linejoin:round;stroke:rgb(0%,0%,0%);stroke-opacity:1;stroke-miterlimit:10;\" d=\"M 138.398438 416.800781 L 170.398438 416.800781 L 170.398438 369.398438 L 138.398438 369.398438 Z M 138.398438 416.800781 \"/>\n",
       "<path style=\"fill:none;stroke-width:0.75;stroke-linecap:round;stroke-linejoin:round;stroke:rgb(0%,0%,0%);stroke-opacity:1;stroke-miterlimit:10;\" d=\"M 170.398438 416.800781 L 202.398438 416.800781 L 202.398438 277.757812 L 170.398438 277.757812 Z M 170.398438 416.800781 \"/>\n",
       "<path style=\"fill:none;stroke-width:0.75;stroke-linecap:round;stroke-linejoin:round;stroke:rgb(0%,0%,0%);stroke-opacity:1;stroke-miterlimit:10;\" d=\"M 202.398438 416.800781 L 234.398438 416.800781 L 234.398438 134.195312 L 202.398438 134.195312 Z M 202.398438 416.800781 \"/>\n",
       "<path style=\"fill:none;stroke-width:0.75;stroke-linecap:round;stroke-linejoin:round;stroke:rgb(0%,0%,0%);stroke-opacity:1;stroke-miterlimit:10;\" d=\"M 234.398438 416.800781 L 266.398438 416.800781 L 266.398438 72.800781 L 234.398438 72.800781 Z M 234.398438 416.800781 \"/>\n",
       "<path style=\"fill:none;stroke-width:0.75;stroke-linecap:round;stroke-linejoin:round;stroke:rgb(0%,0%,0%);stroke-opacity:1;stroke-miterlimit:10;\" d=\"M 266.398438 416.800781 L 298.398438 416.800781 L 298.398438 182.953125 L 266.398438 182.953125 Z M 266.398438 416.800781 \"/>\n",
       "<path style=\"fill:none;stroke-width:0.75;stroke-linecap:round;stroke-linejoin:round;stroke:rgb(0%,0%,0%);stroke-opacity:1;stroke-miterlimit:10;\" d=\"M 298.398438 416.800781 L 330.398438 416.800781 L 330.398438 301.683594 L 298.398438 301.683594 Z M 298.398438 416.800781 \"/>\n",
       "<path style=\"fill:none;stroke-width:0.75;stroke-linecap:round;stroke-linejoin:round;stroke:rgb(0%,0%,0%);stroke-opacity:1;stroke-miterlimit:10;\" d=\"M 330.398438 416.800781 L 362.398438 416.800781 L 362.398438 376.621094 L 330.398438 376.621094 Z M 330.398438 416.800781 \"/>\n",
       "<path style=\"fill:none;stroke-width:0.75;stroke-linecap:round;stroke-linejoin:round;stroke:rgb(0%,0%,0%);stroke-opacity:1;stroke-miterlimit:10;\" d=\"M 362.398438 416.800781 L 394.398438 416.800781 L 394.398438 405.964844 L 362.398438 405.964844 Z M 362.398438 416.800781 \"/>\n",
       "<path style=\"fill:none;stroke-width:0.75;stroke-linecap:round;stroke-linejoin:round;stroke:rgb(0%,0%,0%);stroke-opacity:1;stroke-miterlimit:10;\" d=\"M 394.398438 416.800781 L 426.398438 416.800781 L 426.398438 415.445312 L 394.398438 415.445312 Z M 394.398438 416.800781 \"/>\n",
       "<path style=\"fill:none;stroke-width:0.75;stroke-linecap:round;stroke-linejoin:round;stroke:rgb(0%,0%,0%);stroke-opacity:1;stroke-miterlimit:10;\" d=\"M 426.398438 416.800781 L 458.398438 416.800781 L 458.398438 415.898438 L 426.398438 415.898438 Z M 426.398438 416.800781 \"/>\n",
       "</g>\n",
       "</svg>\n"
      ],
      "text/plain": [
       "Plot with title \"Histogram of outcome_red[, \"heart attack\"]\""
      ]
     },
     "metadata": {
      "image/svg+xml": {
       "isolated": true
      }
     },
     "output_type": "display_data"
    }
   ],
   "source": [
    "hist(outcome_red[,\"heart attack\"])"
   ]
  },
  {
   "cell_type": "code",
   "execution_count": 184,
   "metadata": {
    "collapsed": false
   },
   "outputs": [
    {
     "data": {
      "text/html": [
       "<table>\n",
       "<thead><tr><th></th><th scope=col>name</th><th scope=col>state</th><th scope=col>heart attack</th><th scope=col>heart failure</th><th scope=col>pneumonia</th></tr></thead>\n",
       "<tbody>\n",
       "\t<tr><th scope=row>3726</th><td>ABBEVILLE AREA MEDICAL CENTER</td><td>SC</td><td>NA</td><td>11</td><td>11.3</td></tr>\n",
       "\t<tr><th scope=row>1735</th><td>ABBEVILLE GENERAL HOSPITAL</td><td>LA</td><td>NA</td><td>15.7</td><td>12</td></tr>\n",
       "\t<tr><th scope=row>2137</th><td>ABBOTT NORTHWESTERN HOSPITAL</td><td>MN</td><td>12.3</td><td>9.2</td><td>9.2</td></tr>\n",
       "\t<tr><th scope=row>4045</th><td>ABILENE REGIONAL MEDICAL CENTER</td><td>TX</td><td>17.2</td><td>13.6</td><td>15</td></tr>\n",
       "\t<tr><th scope=row>3561</th><td>ABINGTON MEMORIAL HOSPITAL</td><td>PA</td><td>14.3</td><td>9.6</td><td>11.2</td></tr>\n",
       "\t<tr><th scope=row>1241</th><td>ABRAHAM LINCOLN MEMORIAL HOSPITAL</td><td>IL</td><td>NA</td><td>11.8</td><td>9.8</td></tr>\n",
       "</tbody>\n",
       "</table>\n"
      ],
      "text/latex": [
       "\\begin{tabular}{r|lllll}\n",
       "  & name & state & heart attack & heart failure & pneumonia\\\\\n",
       "\\hline\n",
       "\t3726 & ABBEVILLE AREA MEDICAL CENTER & SC & NA & 11 & 11.3\\\\\n",
       "\t1735 & ABBEVILLE GENERAL HOSPITAL & LA & NA & 15.7 & 12\\\\\n",
       "\t2137 & ABBOTT NORTHWESTERN HOSPITAL & MN & 12.3 & 9.2 & 9.2\\\\\n",
       "\t4045 & ABILENE REGIONAL MEDICAL CENTER & TX & 17.2 & 13.6 & 15\\\\\n",
       "\t3561 & ABINGTON MEMORIAL HOSPITAL & PA & 14.3 & 9.6 & 11.2\\\\\n",
       "\t1241 & ABRAHAM LINCOLN MEMORIAL HOSPITAL & IL & NA & 11.8 & 9.8\\\\\n",
       "\\end{tabular}\n"
      ],
      "text/plain": [
       "                                  name state heart attack heart failure\n",
       "3726     ABBEVILLE AREA MEDICAL CENTER    SC           NA          11.0\n",
       "1735        ABBEVILLE GENERAL HOSPITAL    LA           NA          15.7\n",
       "2137      ABBOTT NORTHWESTERN HOSPITAL    MN         12.3           9.2\n",
       "4045   ABILENE REGIONAL MEDICAL CENTER    TX         17.2          13.6\n",
       "3561        ABINGTON MEMORIAL HOSPITAL    PA         14.3           9.6\n",
       "1241 ABRAHAM LINCOLN MEMORIAL HOSPITAL    IL           NA          11.8\n",
       "     pneumonia\n",
       "3726      11.3\n",
       "1735      12.0\n",
       "2137       9.2\n",
       "4045      15.0\n",
       "3561      11.2\n",
       "1241       9.8"
      ]
     },
     "execution_count": 184,
     "metadata": {},
     "output_type": "execute_result"
    }
   ],
   "source": [
    "outcome_red[order(outcome_red[,\"name\"]),] %>% head"
   ]
  },
  {
   "cell_type": "code",
   "execution_count": 285,
   "metadata": {
    "collapsed": false
   },
   "outputs": [
    {
     "data": {
      "text/html": [
       "<table>\n",
       "<thead><tr><th></th><th scope=col>name</th><th scope=col>state</th><th scope=col>heart attack</th><th scope=col>heart failure</th><th scope=col>pneumonia</th></tr></thead>\n",
       "<tbody>\n",
       "\t<tr><th scope=row>1254</th><td>PERRY MEMORIAL HOSPITAL</td><td>IL</td><td>14.8</td><td>13.7</td><td>16.9</td></tr>\n",
       "\t<tr><th scope=row>1116</th><td>ST JOHNS HOSPITAL</td><td>IL</td><td>13.7</td><td>13.2</td><td>17.1</td></tr>\n",
       "\t<tr><th scope=row>1225</th><td>MIDWEST MEDICAL CENTER</td><td>IL</td><td>NA</td><td>NA</td><td>NA</td></tr>\n",
       "\t<tr><th scope=row>1138</th><td>MIDWESTERN REGION MED CENTER</td><td>IL</td><td>NA</td><td>NA</td><td>NA</td></tr>\n",
       "\t<tr><th scope=row>1163</th><td>SACRED HEART HOSPITAL</td><td>IL</td><td>NA</td><td>7.6</td><td>NA</td></tr>\n",
       "\t<tr><th scope=row>1105</th><td>VISTA MEDICAL CENTER WEST</td><td>IL</td><td>NA</td><td>NA</td><td>NA</td></tr>\n",
       "</tbody>\n",
       "</table>\n"
      ],
      "text/latex": [
       "\\begin{tabular}{r|lllll}\n",
       "  & name & state & heart attack & heart failure & pneumonia\\\\\n",
       "\\hline\n",
       "\t1254 & PERRY MEMORIAL HOSPITAL & IL & 14.8 & 13.7 & 16.9\\\\\n",
       "\t1116 & ST JOHNS HOSPITAL & IL & 13.7 & 13.2 & 17.1\\\\\n",
       "\t1225 & MIDWEST MEDICAL CENTER & IL & NA & NA & NA\\\\\n",
       "\t1138 & MIDWESTERN REGION MED CENTER & IL & NA & NA & NA\\\\\n",
       "\t1163 & SACRED HEART HOSPITAL & IL & NA & 7.6 & NA\\\\\n",
       "\t1105 & VISTA MEDICAL CENTER WEST & IL & NA & NA & NA\\\\\n",
       "\\end{tabular}\n"
      ],
      "text/plain": [
       "                             name state heart attack heart failure pneumonia\n",
       "1254      PERRY MEMORIAL HOSPITAL    IL         14.8          13.7      16.9\n",
       "1116            ST JOHNS HOSPITAL    IL         13.7          13.2      17.1\n",
       "1225       MIDWEST MEDICAL CENTER    IL           NA            NA        NA\n",
       "1138 MIDWESTERN REGION MED CENTER    IL           NA            NA        NA\n",
       "1163        SACRED HEART HOSPITAL    IL           NA           7.6        NA\n",
       "1105    VISTA MEDICAL CENTER WEST    IL           NA            NA        NA"
      ]
     },
     "execution_count": 285,
     "metadata": {},
     "output_type": "execute_result"
    },
    {
     "data": {
      "text/html": [
       "<table>\n",
       "<thead><tr><th></th><th scope=col>name</th><th scope=col>state</th><th scope=col>heart attack</th><th scope=col>heart failure</th><th scope=col>pneumonia</th></tr></thead>\n",
       "<tbody>\n",
       "\t<tr><th scope=row>1243</th><td>KEWANEE HOSPITAL</td><td>IL</td><td>NA</td><td>13.2</td><td>15.9</td></tr>\n",
       "\t<tr><th scope=row>1242</th><td>FERRELL HOSPITAL COMMUNITY FOUNDATIONS</td><td>IL</td><td>NA</td><td>13.5</td><td>16.1</td></tr>\n",
       "\t<tr><th scope=row>1267</th><td>ST FRANCIS HOSPITAL</td><td>IL</td><td>16.5</td><td>14.7</td><td>16.2</td></tr>\n",
       "\t<tr><th scope=row>1118</th><td>PASSAVANT AREA HOSPITAL</td><td>IL</td><td>17.4</td><td>12.4</td><td>16.3</td></tr>\n",
       "\t<tr><th scope=row>1254</th><td>PERRY MEMORIAL HOSPITAL</td><td>IL</td><td>14.8</td><td>13.7</td><td>16.9</td></tr>\n",
       "\t<tr><th scope=row>1116</th><td>ST JOHNS HOSPITAL</td><td>IL</td><td>13.7</td><td>13.2</td><td>17.1</td></tr>\n",
       "</tbody>\n",
       "</table>\n"
      ],
      "text/latex": [
       "\\begin{tabular}{r|lllll}\n",
       "  & name & state & heart attack & heart failure & pneumonia\\\\\n",
       "\\hline\n",
       "\t1243 & KEWANEE HOSPITAL & IL & NA & 13.2 & 15.9\\\\\n",
       "\t1242 & FERRELL HOSPITAL COMMUNITY FOUNDATIONS & IL & NA & 13.5 & 16.1\\\\\n",
       "\t1267 & ST FRANCIS HOSPITAL & IL & 16.5 & 14.7 & 16.2\\\\\n",
       "\t1118 & PASSAVANT AREA HOSPITAL & IL & 17.4 & 12.4 & 16.3\\\\\n",
       "\t1254 & PERRY MEMORIAL HOSPITAL & IL & 14.8 & 13.7 & 16.9\\\\\n",
       "\t1116 & ST JOHNS HOSPITAL & IL & 13.7 & 13.2 & 17.1\\\\\n",
       "\\end{tabular}\n"
      ],
      "text/plain": [
       "                                       name state heart attack heart failure\n",
       "1243                       KEWANEE HOSPITAL    IL           NA          13.2\n",
       "1242 FERRELL HOSPITAL COMMUNITY FOUNDATIONS    IL           NA          13.5\n",
       "1267                    ST FRANCIS HOSPITAL    IL         16.5          14.7\n",
       "1118                PASSAVANT AREA HOSPITAL    IL         17.4          12.4\n",
       "1254                PERRY MEMORIAL HOSPITAL    IL         14.8          13.7\n",
       "1116                      ST JOHNS HOSPITAL    IL         13.7          13.2\n",
       "     pneumonia\n",
       "1243      15.9\n",
       "1242      16.1\n",
       "1267      16.2\n",
       "1118      16.3\n",
       "1254      16.9\n",
       "1116      17.1"
      ]
     },
     "execution_count": 285,
     "metadata": {},
     "output_type": "execute_result"
    }
   ],
   "source": [
    "state = \"IL\"\n",
    "outcome = \"pneumonia\"\n",
    "mortality = split(data, data[,\"state\"])[[state]]\n",
    "mortality = mortality[order(mortality[,\"name\"]),]\n",
    "mortality = mortality[order(mortality[,outcome]),]\n",
    "mortality %>% tail\n",
    "mortality = mortality[!is.na(mortality[,outcome]),]\n",
    "mortality %>% tail\n",
    "\n",
    "# mortality %>% tail\n",
    "# mortality %>% nrow\n",
    "# mortality[800:831,]"
   ]
  },
  {
   "cell_type": "code",
   "execution_count": 324,
   "metadata": {
    "collapsed": true
   },
   "outputs": [],
   "source": [
    "data = read_and_format(\"outcome-of-care-measures.csv\")\n",
    "\n",
    "rankhospital = function(state, outcome, rank){\n",
    "    if ( !state %in% levels(data[,\"state\"]) ) stop(\"invalid state\")\n",
    "    if ( !outcome %in% c(\"heart attack\", \"heart failure\", \"pneumonia\") ) stop(\"invalid outcome\")\n",
    "    mortality = split(data, data[,\"state\"])[[state]]\n",
    "    mortality = mortality[order(mortality[,\"name\"]),]\n",
    "    mortality = mortality[order(mortality[,outcome]),]\n",
    "    mortality = mortality[!is.na(mortality[,outcome]),]\n",
    "    if ( rank == \"best\" ) rank=1\n",
    "    if ( rank == \"worst\" ) rank=nrow(mortality)\n",
    "    mortality[rank,\"name\"]\n",
    "}\n",
    "\n",
    "best = function(state, outcome){\n",
    "    rankhospital(state, outcome, 1)\n",
    "}\n",
    "        \n",
    "rankall = function(outcome, num=\"best\"){\n",
    "    states = levels(data[,\"state\"])\n",
    "    out = matrix(nrow=length(states), ncol=2)\n",
    "    colnames(out) = c(\"hospital\", \"state\")\n",
    "    rownames(out) = states\n",
    "    for ( i in 1:length(states) ){\n",
    "        out[i,] = c(rankhospital(states[i], outcome, num), states[i])\n",
    "    }\n",
    "    as.data.frame(out)\n",
    "}"
   ]
  },
  {
   "cell_type": "code",
   "execution_count": 301,
   "metadata": {
    "collapsed": false
   },
   "outputs": [
    {
     "data": {
      "text/html": [
       "a"
      ],
      "text/latex": [
       "a"
      ],
      "text/markdown": [
       "a"
      ],
      "text/plain": [
       "[1] a\n",
       "Levels: a b c d"
      ]
     },
     "execution_count": 301,
     "metadata": {},
     "output_type": "execute_result"
    }
   ],
   "source": [
    "# test that alphabetical preordering works\n",
    "\n",
    "test_data = data.frame(cbind(name=c(\"b\", \"a\", \"c\", \"d\"), state=c(\"IL\", \"IL\", \"AX\", \"AX\"), pneumonia=c(1,1,2,2)))\n",
    "data_o = data\n",
    "data = test_data\n",
    "\n",
    "best(\"IL\", \"pneumonia\")\n",
    "\n",
    "data = data_o"
   ]
  },
  {
   "cell_type": "markdown",
   "metadata": {},
   "source": [
    "# Tests"
   ]
  },
  {
   "cell_type": "markdown",
   "metadata": {},
   "source": [
    "### best()"
   ]
  },
  {
   "cell_type": "code",
   "execution_count": 288,
   "metadata": {
    "collapsed": false
   },
   "outputs": [
    {
     "data": {
      "text/html": [
       "'CYPRESS FAIRBANKS MEDICAL CENTER'"
      ],
      "text/latex": [
       "'CYPRESS FAIRBANKS MEDICAL CENTER'"
      ],
      "text/markdown": [
       "'CYPRESS FAIRBANKS MEDICAL CENTER'"
      ],
      "text/plain": [
       "[1] \"CYPRESS FAIRBANKS MEDICAL CENTER\""
      ]
     },
     "execution_count": 288,
     "metadata": {},
     "output_type": "execute_result"
    }
   ],
   "source": [
    "best(\"TX\", \"heart attack\")"
   ]
  },
  {
   "cell_type": "code",
   "execution_count": 289,
   "metadata": {
    "collapsed": false
   },
   "outputs": [
    {
     "data": {
      "text/html": [
       "'FORT DUNCAN MEDICAL CENTER'"
      ],
      "text/latex": [
       "'FORT DUNCAN MEDICAL CENTER'"
      ],
      "text/markdown": [
       "'FORT DUNCAN MEDICAL CENTER'"
      ],
      "text/plain": [
       "[1] \"FORT DUNCAN MEDICAL CENTER\""
      ]
     },
     "execution_count": 289,
     "metadata": {},
     "output_type": "execute_result"
    }
   ],
   "source": [
    "best(\"TX\", \"heart failure\")"
   ]
  },
  {
   "cell_type": "code",
   "execution_count": 290,
   "metadata": {
    "collapsed": false
   },
   "outputs": [
    {
     "data": {
      "text/html": [
       "'JOHNS HOPKINS HOSPITAL, THE'"
      ],
      "text/latex": [
       "'JOHNS HOPKINS HOSPITAL, THE'"
      ],
      "text/markdown": [
       "'JOHNS HOPKINS HOSPITAL, THE'"
      ],
      "text/plain": [
       "[1] \"JOHNS HOPKINS HOSPITAL, THE\""
      ]
     },
     "execution_count": 290,
     "metadata": {},
     "output_type": "execute_result"
    }
   ],
   "source": [
    "best(\"MD\", \"heart attack\")"
   ]
  },
  {
   "cell_type": "code",
   "execution_count": 291,
   "metadata": {
    "collapsed": false
   },
   "outputs": [
    {
     "data": {
      "text/html": [
       "'GREATER BALTIMORE MEDICAL CENTER'"
      ],
      "text/latex": [
       "'GREATER BALTIMORE MEDICAL CENTER'"
      ],
      "text/markdown": [
       "'GREATER BALTIMORE MEDICAL CENTER'"
      ],
      "text/plain": [
       "[1] \"GREATER BALTIMORE MEDICAL CENTER\""
      ]
     },
     "execution_count": 291,
     "metadata": {},
     "output_type": "execute_result"
    }
   ],
   "source": [
    "best(\"MD\", \"pneumonia\")"
   ]
  },
  {
   "cell_type": "code",
   "execution_count": 292,
   "metadata": {
    "collapsed": false
   },
   "outputs": [
    {
     "ename": "ERROR",
     "evalue": "Error in rankhospital(state, outcome, 1): invalid state\n",
     "output_type": "error",
     "traceback": [
      "Error in rankhospital(state, outcome, 1): invalid state\n"
     ]
    }
   ],
   "source": [
    "best(\"BB\", \"heart attack\")"
   ]
  },
  {
   "cell_type": "code",
   "execution_count": 293,
   "metadata": {
    "collapsed": false
   },
   "outputs": [
    {
     "ename": "ERROR",
     "evalue": "Error in rankhospital(state, outcome, 1): invalid outcome\n",
     "output_type": "error",
     "traceback": [
      "Error in rankhospital(state, outcome, 1): invalid outcome\n"
     ]
    }
   ],
   "source": [
    "best(\"NY\", \"hert attack\")"
   ]
  },
  {
   "cell_type": "markdown",
   "metadata": {},
   "source": [
    "### rankhospital()"
   ]
  },
  {
   "cell_type": "code",
   "execution_count": 295,
   "metadata": {
    "collapsed": false
   },
   "outputs": [
    {
     "data": {
      "text/html": [
       "<table>\n",
       "<tbody>\n",
       "\t<tr><td>FORT DUNCAN MEDICAL CENTER</td></tr>\n",
       "\t<tr><td>TOMBALL REGIONAL MEDICAL CENTER</td></tr>\n",
       "\t<tr><td>CYPRESS FAIRBANKS MEDICAL CENTER</td></tr>\n",
       "\t<tr><td>DETAR HOSPITAL NAVARRO</td></tr>\n",
       "\t<tr><td>METHODIST HOSPITAL,THE</td></tr>\n",
       "\t<tr><td>MISSION REGIONAL MEDICAL CENTER</td></tr>\n",
       "</tbody>\n",
       "</table>\n"
      ],
      "text/latex": [
       "\\begin{tabular}{l}\n",
       "\t FORT DUNCAN MEDICAL CENTER\\\\\n",
       "\t TOMBALL REGIONAL MEDICAL CENTER\\\\\n",
       "\t CYPRESS FAIRBANKS MEDICAL CENTER\\\\\n",
       "\t DETAR HOSPITAL NAVARRO\\\\\n",
       "\t METHODIST HOSPITAL,THE\\\\\n",
       "\t MISSION REGIONAL MEDICAL CENTER\\\\\n",
       "\\end{tabular}\n"
      ],
      "text/markdown": [
       "1. 'FORT DUNCAN MEDICAL CENTER'\n",
       "2. 'TOMBALL REGIONAL MEDICAL CENTER'\n",
       "3. 'CYPRESS FAIRBANKS MEDICAL CENTER'\n",
       "4. 'DETAR HOSPITAL NAVARRO'\n",
       "5. 'METHODIST HOSPITAL,THE'\n",
       "6. 'MISSION REGIONAL MEDICAL CENTER'\n",
       "\n",
       "\n"
      ],
      "text/plain": [
       "     [,1]                              \n",
       "[1,] \"FORT DUNCAN MEDICAL CENTER\"      \n",
       "[2,] \"TOMBALL REGIONAL MEDICAL CENTER\" \n",
       "[3,] \"CYPRESS FAIRBANKS MEDICAL CENTER\"\n",
       "[4,] \"DETAR HOSPITAL NAVARRO\"          \n",
       "[5,] \"METHODIST HOSPITAL,THE\"          \n",
       "[6,] \"MISSION REGIONAL MEDICAL CENTER\" "
      ]
     },
     "execution_count": 295,
     "metadata": {},
     "output_type": "execute_result"
    }
   ],
   "source": [
    "sapply(1:6, function(i) rankhospital(\"TX\", \"heart failure\", i)) %>% as.matrix"
   ]
  },
  {
   "cell_type": "code",
   "execution_count": 294,
   "metadata": {
    "collapsed": false
   },
   "outputs": [
    {
     "data": {
      "text/html": [
       "'DETAR HOSPITAL NAVARRO'"
      ],
      "text/latex": [
       "'DETAR HOSPITAL NAVARRO'"
      ],
      "text/markdown": [
       "'DETAR HOSPITAL NAVARRO'"
      ],
      "text/plain": [
       "[1] \"DETAR HOSPITAL NAVARRO\""
      ]
     },
     "execution_count": 294,
     "metadata": {},
     "output_type": "execute_result"
    }
   ],
   "source": [
    "rankhospital(\"TX\", \"heart failure\", 4)"
   ]
  },
  {
   "cell_type": "code",
   "execution_count": 296,
   "metadata": {
    "collapsed": false
   },
   "outputs": [
    {
     "data": {
      "text/html": [
       "'HARFORD MEMORIAL HOSPITAL'"
      ],
      "text/latex": [
       "'HARFORD MEMORIAL HOSPITAL'"
      ],
      "text/markdown": [
       "'HARFORD MEMORIAL HOSPITAL'"
      ],
      "text/plain": [
       "[1] \"HARFORD MEMORIAL HOSPITAL\""
      ]
     },
     "execution_count": 296,
     "metadata": {},
     "output_type": "execute_result"
    }
   ],
   "source": [
    "rankhospital(\"MD\", \"heart attack\", \"worst\")"
   ]
  },
  {
   "cell_type": "code",
   "execution_count": 297,
   "metadata": {
    "collapsed": false
   },
   "outputs": [
    {
     "data": {
      "text/html": [
       "'NA'"
      ],
      "text/latex": [
       "'NA'"
      ],
      "text/markdown": [
       "'NA'"
      ],
      "text/plain": [
       "[1] NA"
      ]
     },
     "execution_count": 297,
     "metadata": {},
     "output_type": "execute_result"
    }
   ],
   "source": [
    "rankhospital(\"MN\", \"heart attack\", 5000)"
   ]
  },
  {
   "cell_type": "markdown",
   "metadata": {},
   "source": [
    "### rankall()"
   ]
  },
  {
   "cell_type": "code",
   "execution_count": 320,
   "metadata": {
    "collapsed": false
   },
   "outputs": [
    {
     "data": {
      "text/html": [
       "<table>\n",
       "<thead><tr><th></th><th scope=col>hospital</th><th scope=col>state</th></tr></thead>\n",
       "<tbody>\n",
       "\t<tr><th scope=row>AK</th><td>NA</td><td>AK</td></tr>\n",
       "\t<tr><th scope=row>AL</th><td>D W MCMILLAN MEMORIAL HOSPITAL</td><td>AL</td></tr>\n",
       "\t<tr><th scope=row>AR</th><td>ARKANSAS METHODIST MEDICAL CENTER</td><td>AR</td></tr>\n",
       "\t<tr><th scope=row>AZ</th><td>JOHN C LINCOLN DEER VALLEY HOSPITAL</td><td>AZ</td></tr>\n",
       "\t<tr><th scope=row>CA</th><td>SHERMAN OAKS HOSPITAL</td><td>CA</td></tr>\n",
       "\t<tr><th scope=row>CO</th><td>SKY RIDGE MEDICAL CENTER</td><td>CO</td></tr>\n",
       "\t<tr><th scope=row>CT</th><td>MIDSTATE MEDICAL CENTER</td><td>CT</td></tr>\n",
       "\t<tr><th scope=row>DC</th><td>NA</td><td>DC</td></tr>\n",
       "\t<tr><th scope=row>DE</th><td>NA</td><td>DE</td></tr>\n",
       "\t<tr><th scope=row>FL</th><td>SOUTH FLORIDA BAPTIST HOSPITAL</td><td>FL</td></tr>\n",
       "</tbody>\n",
       "</table>\n"
      ],
      "text/latex": [
       "\\begin{tabular}{r|ll}\n",
       "  & hospital & state\\\\\n",
       "\\hline\n",
       "\tAK & NA & AK\\\\\n",
       "\tAL & D W MCMILLAN MEMORIAL HOSPITAL & AL\\\\\n",
       "\tAR & ARKANSAS METHODIST MEDICAL CENTER & AR\\\\\n",
       "\tAZ & JOHN C LINCOLN DEER VALLEY HOSPITAL & AZ\\\\\n",
       "\tCA & SHERMAN OAKS HOSPITAL & CA\\\\\n",
       "\tCO & SKY RIDGE MEDICAL CENTER & CO\\\\\n",
       "\tCT & MIDSTATE MEDICAL CENTER & CT\\\\\n",
       "\tDC & NA & DC\\\\\n",
       "\tDE & NA & DE\\\\\n",
       "\tFL & SOUTH FLORIDA BAPTIST HOSPITAL & FL\\\\\n",
       "\\end{tabular}\n"
      ],
      "text/plain": [
       "                              hospital state\n",
       "AK                                <NA>    AK\n",
       "AL      D W MCMILLAN MEMORIAL HOSPITAL    AL\n",
       "AR   ARKANSAS METHODIST MEDICAL CENTER    AR\n",
       "AZ JOHN C LINCOLN DEER VALLEY HOSPITAL    AZ\n",
       "CA               SHERMAN OAKS HOSPITAL    CA\n",
       "CO            SKY RIDGE MEDICAL CENTER    CO\n",
       "CT             MIDSTATE MEDICAL CENTER    CT\n",
       "DC                                <NA>    DC\n",
       "DE                                <NA>    DE\n",
       "FL      SOUTH FLORIDA BAPTIST HOSPITAL    FL"
      ]
     },
     "execution_count": 320,
     "metadata": {},
     "output_type": "execute_result"
    }
   ],
   "source": [
    "head(rankall(\"heart attack\", 20), 10)"
   ]
  },
  {
   "cell_type": "code",
   "execution_count": 322,
   "metadata": {
    "collapsed": false
   },
   "outputs": [
    {
     "data": {
      "text/html": [
       "<table>\n",
       "<thead><tr><th></th><th scope=col>hospital</th><th scope=col>state</th></tr></thead>\n",
       "<tbody>\n",
       "\t<tr><th scope=row>WI</th><td>MAYO CLINIC HEALTH SYSTEM - NORTHLAND, INC</td><td>WI</td></tr>\n",
       "\t<tr><th scope=row>WV</th><td>PLATEAU MEDICAL CENTER</td><td>WV</td></tr>\n",
       "\t<tr><th scope=row>WY</th><td>NORTH BIG HORN HOSPITAL DISTRICT</td><td>WY</td></tr>\n",
       "</tbody>\n",
       "</table>\n"
      ],
      "text/latex": [
       "\\begin{tabular}{r|ll}\n",
       "  & hospital & state\\\\\n",
       "\\hline\n",
       "\tWI & MAYO CLINIC HEALTH SYSTEM - NORTHLAND, INC & WI\\\\\n",
       "\tWV & PLATEAU MEDICAL CENTER & WV\\\\\n",
       "\tWY & NORTH BIG HORN HOSPITAL DISTRICT & WY\\\\\n",
       "\\end{tabular}\n"
      ],
      "text/plain": [
       "                                     hospital state\n",
       "WI MAYO CLINIC HEALTH SYSTEM - NORTHLAND, INC    WI\n",
       "WV                     PLATEAU MEDICAL CENTER    WV\n",
       "WY           NORTH BIG HORN HOSPITAL DISTRICT    WY"
      ]
     },
     "execution_count": 322,
     "metadata": {},
     "output_type": "execute_result"
    }
   ],
   "source": [
    "tail(rankall(\"pneumonia\", \"worst\"), 3)"
   ]
  },
  {
   "cell_type": "code",
   "execution_count": 325,
   "metadata": {
    "collapsed": false
   },
   "outputs": [
    {
     "data": {
      "text/html": [
       "<table>\n",
       "<thead><tr><th></th><th scope=col>hospital</th><th scope=col>state</th></tr></thead>\n",
       "<tbody>\n",
       "\t<tr><th scope=row>TN</th><td>WELLMONT HAWKINS COUNTY MEMORIAL HOSPITAL</td><td>TN</td></tr>\n",
       "\t<tr><th scope=row>TX</th><td>FORT DUNCAN MEDICAL CENTER</td><td>TX</td></tr>\n",
       "\t<tr><th scope=row>UT</th><td>VA SALT LAKE CITY HEALTHCARE - GEORGE E. WAHLEN VA MEDICAL CENTER</td><td>UT</td></tr>\n",
       "\t<tr><th scope=row>VA</th><td>SENTARA POTOMAC HOSPITAL</td><td>VA</td></tr>\n",
       "\t<tr><th scope=row>VI</th><td>GOV JUAN F LUIS HOSPITAL & MEDICAL CTR</td><td>VI</td></tr>\n",
       "\t<tr><th scope=row>VT</th><td>SPRINGFIELD HOSPITAL</td><td>VT</td></tr>\n",
       "\t<tr><th scope=row>WA</th><td>HARBORVIEW MEDICAL CENTER</td><td>WA</td></tr>\n",
       "\t<tr><th scope=row>WI</th><td>AURORA ST LUKES MEDICAL CENTER</td><td>WI</td></tr>\n",
       "\t<tr><th scope=row>WV</th><td>FAIRMONT GENERAL HOSPITAL</td><td>WV</td></tr>\n",
       "\t<tr><th scope=row>WY</th><td>CHEYENNE VA MEDICAL CENTER</td><td>WY</td></tr>\n",
       "</tbody>\n",
       "</table>\n"
      ],
      "text/latex": [
       "\\begin{tabular}{r|ll}\n",
       "  & hospital & state\\\\\n",
       "\\hline\n",
       "\tTN & WELLMONT HAWKINS COUNTY MEMORIAL HOSPITAL & TN\\\\\n",
       "\tTX & FORT DUNCAN MEDICAL CENTER & TX\\\\\n",
       "\tUT & VA SALT LAKE CITY HEALTHCARE - GEORGE E. WAHLEN VA MEDICAL CENTER & UT\\\\\n",
       "\tVA & SENTARA POTOMAC HOSPITAL & VA\\\\\n",
       "\tVI & GOV JUAN F LUIS HOSPITAL & MEDICAL CTR & VI\\\\\n",
       "\tVT & SPRINGFIELD HOSPITAL & VT\\\\\n",
       "\tWA & HARBORVIEW MEDICAL CENTER & WA\\\\\n",
       "\tWI & AURORA ST LUKES MEDICAL CENTER & WI\\\\\n",
       "\tWV & FAIRMONT GENERAL HOSPITAL & WV\\\\\n",
       "\tWY & CHEYENNE VA MEDICAL CENTER & WY\\\\\n",
       "\\end{tabular}\n"
      ],
      "text/plain": [
       "                                                            hospital state\n",
       "TN                         WELLMONT HAWKINS COUNTY MEMORIAL HOSPITAL    TN\n",
       "TX                                        FORT DUNCAN MEDICAL CENTER    TX\n",
       "UT VA SALT LAKE CITY HEALTHCARE - GEORGE E. WAHLEN VA MEDICAL CENTER    UT\n",
       "VA                                          SENTARA POTOMAC HOSPITAL    VA\n",
       "VI                            GOV JUAN F LUIS HOSPITAL & MEDICAL CTR    VI\n",
       "VT                                              SPRINGFIELD HOSPITAL    VT\n",
       "WA                                         HARBORVIEW MEDICAL CENTER    WA\n",
       "WI                                    AURORA ST LUKES MEDICAL CENTER    WI\n",
       "WV                                         FAIRMONT GENERAL HOSPITAL    WV\n",
       "WY                                        CHEYENNE VA MEDICAL CENTER    WY"
      ]
     },
     "execution_count": 325,
     "metadata": {},
     "output_type": "execute_result"
    }
   ],
   "source": [
    "tail(rankall(\"heart failure\"), 10)"
   ]
  },
  {
   "cell_type": "code",
   "execution_count": null,
   "metadata": {
    "collapsed": true
   },
   "outputs": [],
   "source": []
  }
 ],
 "metadata": {
  "kernelspec": {
   "display_name": "R",
   "language": "R",
   "name": "ir"
  },
  "language_info": {
   "codemirror_mode": "r",
   "file_extension": ".r",
   "mimetype": "text/x-r-source",
   "name": "R",
   "pygments_lexer": "r",
   "version": "3.2.2"
  }
 },
 "nbformat": 4,
 "nbformat_minor": 0
}
