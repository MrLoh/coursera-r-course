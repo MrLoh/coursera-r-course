{
 "cells": [
  {
   "cell_type": "markdown",
   "metadata": {},
   "source": [
    "# Code"
   ]
  },
  {
   "cell_type": "code",
   "execution_count": 1,
   "metadata": {
    "collapsed": true
   },
   "outputs": [],
   "source": [
    "get_name = function(directory, id){\n",
    "    paste0(directory, \"/\", formatC(id, width=3, flag=\"0\"), \".csv\")\n",
    "}"
   ]
  },
  {
   "cell_type": "markdown",
   "metadata": {},
   "source": [
    "### pollutantmean.R"
   ]
  },
  {
   "cell_type": "code",
   "execution_count": 2,
   "metadata": {
    "collapsed": true
   },
   "outputs": [],
   "source": [
    "pollutantmean = function(directory, pollutant, id=1:332){\n",
    "    for ( i in id ){\n",
    "        if ( i == id[1] ){\n",
    "            data = read.csv(get_name(directory, i), na.strings=\"NA\")\n",
    "        } else {\n",
    "            data = rbind(data, read.csv(get_name(directory, i), na.strings=\"NA\"))\n",
    "        }\n",
    "    }\n",
    "    mean(data[,pollutant], na.rm=TRUE)\n",
    "}"
   ]
  },
  {
   "cell_type": "code",
   "execution_count": 3,
   "metadata": {
    "collapsed": false
   },
   "outputs": [
    {
     "data": {
      "text/html": [
       "4.06412824256036"
      ],
      "text/latex": [
       "4.06412824256036"
      ],
      "text/markdown": [
       "4.06412824256036"
      ],
      "text/plain": [
       "[1] 4.064128"
      ]
     },
     "execution_count": 3,
     "metadata": {},
     "output_type": "execute_result"
    },
    {
     "data": {
      "text/html": [
       "1.70604735169492"
      ],
      "text/latex": [
       "1.70604735169492"
      ],
      "text/markdown": [
       "1.70604735169492"
      ],
      "text/plain": [
       "[1] 1.706047"
      ]
     },
     "execution_count": 3,
     "metadata": {},
     "output_type": "execute_result"
    },
    {
     "data": {
      "text/html": [
       "1.28083333333333"
      ],
      "text/latex": [
       "1.28083333333333"
      ],
      "text/markdown": [
       "1.28083333333333"
      ],
      "text/plain": [
       "[1] 1.280833"
      ]
     },
     "execution_count": 3,
     "metadata": {},
     "output_type": "execute_result"
    }
   ],
   "source": [
    "pollutantmean(\"specdata\", \"sulfate\", 1:10)\n",
    "pollutantmean(\"specdata\", \"nitrate\", 70:72)\n",
    "pollutantmean(\"specdata\", \"nitrate\", 23)"
   ]
  },
  {
   "cell_type": "markdown",
   "metadata": {},
   "source": [
    "### complete.R"
   ]
  },
  {
   "cell_type": "code",
   "execution_count": 4,
   "metadata": {
    "collapsed": true
   },
   "outputs": [],
   "source": [
    "complete = function(directory, id = 1:332){\n",
    "    nobs = data.frame(id=id)\n",
    "    for ( i in 1:length(id) ){\n",
    "        data = read.csv(get_name(directory, id[i]), na.strings=\"NA\")\n",
    "        nobs[i,\"nobs\"] = sum(complete.cases(data))\n",
    "    }\n",
    "    nobs\n",
    "}"
   ]
  },
  {
   "cell_type": "code",
   "execution_count": 5,
   "metadata": {
    "collapsed": false
   },
   "outputs": [
    {
     "data": {
      "text/html": [
       "<table>\n",
       "<thead><tr><th></th><th scope=col>id</th><th scope=col>nobs</th></tr></thead>\n",
       "<tbody>\n",
       "\t<tr><th scope=row>1</th><td>1</td><td>117</td></tr>\n",
       "</tbody>\n",
       "</table>\n"
      ],
      "text/latex": [
       "\\begin{tabular}{r|ll}\n",
       "  & id & nobs\\\\\n",
       "\\hline\n",
       "\t1 & 1 & 117\\\\\n",
       "\\end{tabular}\n"
      ],
      "text/plain": [
       "  id nobs\n",
       "1  1  117"
      ]
     },
     "execution_count": 5,
     "metadata": {},
     "output_type": "execute_result"
    },
    {
     "data": {
      "text/html": [
       "<table>\n",
       "<thead><tr><th></th><th scope=col>id</th><th scope=col>nobs</th></tr></thead>\n",
       "<tbody>\n",
       "\t<tr><th scope=row>1</th><td>2</td><td>1041</td></tr>\n",
       "\t<tr><th scope=row>2</th><td>4</td><td>474</td></tr>\n",
       "\t<tr><th scope=row>3</th><td>8</td><td>192</td></tr>\n",
       "\t<tr><th scope=row>4</th><td>10</td><td>148</td></tr>\n",
       "\t<tr><th scope=row>5</th><td>12</td><td>96</td></tr>\n",
       "</tbody>\n",
       "</table>\n"
      ],
      "text/latex": [
       "\\begin{tabular}{r|ll}\n",
       "  & id & nobs\\\\\n",
       "\\hline\n",
       "\t1 & 2 & 1041\\\\\n",
       "\t2 & 4 & 474\\\\\n",
       "\t3 & 8 & 192\\\\\n",
       "\t4 & 10 & 148\\\\\n",
       "\t5 & 12 & 96\\\\\n",
       "\\end{tabular}\n"
      ],
      "text/plain": [
       "  id nobs\n",
       "1  2 1041\n",
       "2  4  474\n",
       "3  8  192\n",
       "4 10  148\n",
       "5 12   96"
      ]
     },
     "execution_count": 5,
     "metadata": {},
     "output_type": "execute_result"
    },
    {
     "data": {
      "text/html": [
       "<table>\n",
       "<thead><tr><th></th><th scope=col>id</th><th scope=col>nobs</th></tr></thead>\n",
       "<tbody>\n",
       "\t<tr><th scope=row>1</th><td>30</td><td>932</td></tr>\n",
       "\t<tr><th scope=row>2</th><td>29</td><td>711</td></tr>\n",
       "\t<tr><th scope=row>3</th><td>28</td><td>475</td></tr>\n",
       "\t<tr><th scope=row>4</th><td>27</td><td>338</td></tr>\n",
       "\t<tr><th scope=row>5</th><td>26</td><td>586</td></tr>\n",
       "\t<tr><th scope=row>6</th><td>25</td><td>463</td></tr>\n",
       "</tbody>\n",
       "</table>\n"
      ],
      "text/latex": [
       "\\begin{tabular}{r|ll}\n",
       "  & id & nobs\\\\\n",
       "\\hline\n",
       "\t1 & 30 & 932\\\\\n",
       "\t2 & 29 & 711\\\\\n",
       "\t3 & 28 & 475\\\\\n",
       "\t4 & 27 & 338\\\\\n",
       "\t5 & 26 & 586\\\\\n",
       "\t6 & 25 & 463\\\\\n",
       "\\end{tabular}\n"
      ],
      "text/plain": [
       "  id nobs\n",
       "1 30  932\n",
       "2 29  711\n",
       "3 28  475\n",
       "4 27  338\n",
       "5 26  586\n",
       "6 25  463"
      ]
     },
     "execution_count": 5,
     "metadata": {},
     "output_type": "execute_result"
    },
    {
     "data": {
      "text/html": [
       "<table>\n",
       "<thead><tr><th></th><th scope=col>id</th><th scope=col>nobs</th></tr></thead>\n",
       "<tbody>\n",
       "\t<tr><th scope=row>1</th><td>3</td><td>243</td></tr>\n",
       "</tbody>\n",
       "</table>\n"
      ],
      "text/latex": [
       "\\begin{tabular}{r|ll}\n",
       "  & id & nobs\\\\\n",
       "\\hline\n",
       "\t1 & 3 & 243\\\\\n",
       "\\end{tabular}\n"
      ],
      "text/plain": [
       "  id nobs\n",
       "1  3  243"
      ]
     },
     "execution_count": 5,
     "metadata": {},
     "output_type": "execute_result"
    }
   ],
   "source": [
    "complete(\"specdata\", 1)\n",
    "complete(\"specdata\", c(2, 4, 8, 10, 12))\n",
    "complete(\"specdata\", 30:25)\n",
    "complete(\"specdata\", 3)"
   ]
  },
  {
   "cell_type": "markdown",
   "metadata": {
    "collapsed": true
   },
   "source": [
    "### corr.R"
   ]
  },
  {
   "cell_type": "code",
   "execution_count": 6,
   "metadata": {
    "collapsed": false
   },
   "outputs": [],
   "source": [
    "corr = function(directory, threshold=0){\n",
    "    out = c()\n",
    "    for ( id in 1:332 ){\n",
    "        data = read.csv(get_name(directory, id), na.strings=\"NA\")\n",
    "        if ( sum(complete.cases(data)) > threshold ){\n",
    "            c = cor(data[,\"sulfate\"], data[,\"nitrate\"], use=\"complete.obs\")\n",
    "            out = c(out, c)\n",
    "        }\n",
    "    }\n",
    "    out\n",
    "}"
   ]
  },
  {
   "cell_type": "code",
   "execution_count": 7,
   "metadata": {
    "collapsed": false
   },
   "outputs": [
    {
     "data": {
      "text/plain": [
       "    Min.  1st Qu.   Median     Mean  3rd Qu.     Max. \n",
       "-0.21060 -0.04999  0.09463  0.12530  0.26840  0.76310 "
      ]
     },
     "execution_count": 7,
     "metadata": {},
     "output_type": "execute_result"
    },
    {
     "data": {
      "text/plain": [
       "    Min.  1st Qu.   Median     Mean  3rd Qu.     Max. \n",
       "-0.17620 -0.03109  0.10020  0.13970  0.26850  0.76310 "
      ]
     },
     "execution_count": 7,
     "metadata": {},
     "output_type": "execute_result"
    },
    {
     "data": {
      "text/html": [
       "0"
      ],
      "text/latex": [
       "0"
      ],
      "text/markdown": [
       "0"
      ],
      "text/plain": [
       "[1] 0"
      ]
     },
     "execution_count": 7,
     "metadata": {},
     "output_type": "execute_result"
    },
    {
     "data": {
      "text/plain": [
       "    Min.  1st Qu.   Median     Mean  3rd Qu.     Max. \n",
       "-1.00000 -0.05282  0.10720  0.13680  0.27830  1.00000 "
      ]
     },
     "execution_count": 7,
     "metadata": {},
     "output_type": "execute_result"
    },
    {
     "data": {
      "text/html": [
       "323"
      ],
      "text/latex": [
       "323"
      ],
      "text/markdown": [
       "323"
      ],
      "text/plain": [
       "[1] 323"
      ]
     },
     "execution_count": 7,
     "metadata": {},
     "output_type": "execute_result"
    }
   ],
   "source": [
    "summary(corr(\"specdata\", 150))\n",
    "summary(corr(\"specdata\", 400))\n",
    "length(corr(\"specdata\", 5000))\n",
    "summary(corr(\"specdata\"))\n",
    "length(corr(\"specdata\"))"
   ]
  },
  {
   "cell_type": "markdown",
   "metadata": {},
   "source": [
    "# Quiz Questions"
   ]
  },
  {
   "cell_type": "code",
   "execution_count": 8,
   "metadata": {
    "collapsed": false
   },
   "outputs": [
    {
     "data": {
      "text/html": [
       "4.064"
      ],
      "text/latex": [
       "4.064"
      ],
      "text/markdown": [
       "4.064"
      ],
      "text/plain": [
       "[1] 4.064"
      ]
     },
     "execution_count": 8,
     "metadata": {},
     "output_type": "execute_result"
    }
   ],
   "source": [
    "round(pollutantmean(\"specdata\", \"sulfate\", 1:10), 3)"
   ]
  },
  {
   "cell_type": "code",
   "execution_count": 9,
   "metadata": {
    "collapsed": false
   },
   "outputs": [
    {
     "data": {
      "text/html": [
       "1.706"
      ],
      "text/latex": [
       "1.706"
      ],
      "text/markdown": [
       "1.706"
      ],
      "text/plain": [
       "[1] 1.706"
      ]
     },
     "execution_count": 9,
     "metadata": {},
     "output_type": "execute_result"
    }
   ],
   "source": [
    "round(pollutantmean(\"specdata\", \"nitrate\", 70:72), 3)"
   ]
  },
  {
   "cell_type": "code",
   "execution_count": 10,
   "metadata": {
    "collapsed": false
   },
   "outputs": [
    {
     "data": {
      "text/html": [
       "1.477"
      ],
      "text/latex": [
       "1.477"
      ],
      "text/markdown": [
       "1.477"
      ],
      "text/plain": [
       "[1] 1.477"
      ]
     },
     "execution_count": 10,
     "metadata": {},
     "output_type": "execute_result"
    }
   ],
   "source": [
    "round(pollutantmean(\"specdata\", \"sulfate\", 34), 3)"
   ]
  },
  {
   "cell_type": "code",
   "execution_count": 11,
   "metadata": {
    "collapsed": false
   },
   "outputs": [
    {
     "data": {
      "text/html": [
       "1.703"
      ],
      "text/latex": [
       "1.703"
      ],
      "text/markdown": [
       "1.703"
      ],
      "text/plain": [
       "[1] 1.703"
      ]
     },
     "execution_count": 11,
     "metadata": {},
     "output_type": "execute_result"
    }
   ],
   "source": [
    "round(pollutantmean(\"specdata\", \"nitrate\"), 3)"
   ]
  },
  {
   "cell_type": "code",
   "execution_count": 12,
   "metadata": {
    "collapsed": false
   },
   "outputs": [
    {
     "data": {
      "text/html": [
       "<ol class=list-inline>\n",
       "\t<li>228</li>\n",
       "\t<li>148</li>\n",
       "\t<li>124</li>\n",
       "\t<li>165</li>\n",
       "\t<li>104</li>\n",
       "\t<li>460</li>\n",
       "\t<li>232</li>\n",
       "</ol>\n"
      ],
      "text/latex": [
       "\\begin{enumerate*}\n",
       "\\item 228\n",
       "\\item 148\n",
       "\\item 124\n",
       "\\item 165\n",
       "\\item 104\n",
       "\\item 460\n",
       "\\item 232\n",
       "\\end{enumerate*}\n"
      ],
      "text/markdown": [
       "1. 228\n",
       "2. 148\n",
       "3. 124\n",
       "4. 165\n",
       "5. 104\n",
       "6. 460\n",
       "7. 232\n",
       "\n",
       "\n"
      ],
      "text/plain": [
       "[1] 228 148 124 165 104 460 232"
      ]
     },
     "execution_count": 12,
     "metadata": {},
     "output_type": "execute_result"
    }
   ],
   "source": [
    "complete(\"specdata\", c(6, 10, 20, 34, 100, 200, 310))$nobs"
   ]
  },
  {
   "cell_type": "code",
   "execution_count": 13,
   "metadata": {
    "collapsed": false
   },
   "outputs": [
    {
     "data": {
      "text/html": [
       "219"
      ],
      "text/latex": [
       "219"
      ],
      "text/markdown": [
       "219"
      ],
      "text/plain": [
       "[1] 219"
      ]
     },
     "execution_count": 13,
     "metadata": {},
     "output_type": "execute_result"
    }
   ],
   "source": [
    "complete(\"specdata\", 54)$nobs"
   ]
  },
  {
   "cell_type": "code",
   "execution_count": 14,
   "metadata": {
    "collapsed": false
   },
   "outputs": [
    {
     "data": {
      "text/html": [
       "<ol class=list-inline>\n",
       "\t<li>711</li>\n",
       "\t<li>135</li>\n",
       "\t<li>74</li>\n",
       "\t<li>445</li>\n",
       "\t<li>178</li>\n",
       "\t<li>73</li>\n",
       "\t<li>49</li>\n",
       "\t<li>0</li>\n",
       "\t<li>687</li>\n",
       "\t<li>237</li>\n",
       "</ol>\n"
      ],
      "text/latex": [
       "\\begin{enumerate*}\n",
       "\\item 711\n",
       "\\item 135\n",
       "\\item 74\n",
       "\\item 445\n",
       "\\item 178\n",
       "\\item 73\n",
       "\\item 49\n",
       "\\item 0\n",
       "\\item 687\n",
       "\\item 237\n",
       "\\end{enumerate*}\n"
      ],
      "text/markdown": [
       "1. 711\n",
       "2. 135\n",
       "3. 74\n",
       "4. 445\n",
       "5. 178\n",
       "6. 73\n",
       "7. 49\n",
       "8. 0\n",
       "9. 687\n",
       "10. 237\n",
       "\n",
       "\n"
      ],
      "text/plain": [
       " [1] 711 135  74 445 178  73  49   0 687 237"
      ]
     },
     "execution_count": 14,
     "metadata": {},
     "output_type": "execute_result"
    }
   ],
   "source": [
    "set.seed(42)\n",
    "complete(\"specdata\", 332:1)[sample(332, 10), \"nobs\"]"
   ]
  },
  {
   "cell_type": "code",
   "execution_count": 15,
   "metadata": {
    "collapsed": false
   },
   "outputs": [
    {
     "data": {
      "text/html": [
       "<ol class=list-inline>\n",
       "\t<li>0.2688</li>\n",
       "\t<li>0.1127</li>\n",
       "\t<li>-0.0085</li>\n",
       "\t<li>0.4586</li>\n",
       "\t<li>0.0447</li>\n",
       "</ol>\n"
      ],
      "text/latex": [
       "\\begin{enumerate*}\n",
       "\\item 0.2688\n",
       "\\item 0.1127\n",
       "\\item -0.0085\n",
       "\\item 0.4586\n",
       "\\item 0.0447\n",
       "\\end{enumerate*}\n"
      ],
      "text/markdown": [
       "1. 0.2688\n",
       "2. 0.1127\n",
       "3. -0.0085\n",
       "4. 0.4586\n",
       "5. 0.0447\n",
       "\n",
       "\n"
      ],
      "text/plain": [
       "[1]  0.2688  0.1127 -0.0085  0.4586  0.0447"
      ]
     },
     "execution_count": 15,
     "metadata": {},
     "output_type": "execute_result"
    }
   ],
   "source": [
    "cr = sort(corr(\"specdata\"))\n",
    "set.seed(868)  \n",
    "round(cr[sample(length(cr), 5)], 4)"
   ]
  },
  {
   "cell_type": "code",
   "execution_count": 16,
   "metadata": {
    "collapsed": false
   },
   "outputs": [
    {
     "data": {
      "text/html": [
       "<ol class=list-inline>\n",
       "\t<li>243</li>\n",
       "\t<li>0.254</li>\n",
       "\t<li>0.0504</li>\n",
       "\t<li>-0.1462</li>\n",
       "\t<li>-0.168</li>\n",
       "\t<li>0.5969</li>\n",
       "</ol>\n"
      ],
      "text/latex": [
       "\\begin{enumerate*}\n",
       "\\item 243\n",
       "\\item 0.254\n",
       "\\item 0.0504\n",
       "\\item -0.1462\n",
       "\\item -0.168\n",
       "\\item 0.5969\n",
       "\\end{enumerate*}\n"
      ],
      "text/markdown": [
       "1. 243\n",
       "2. 0.254\n",
       "3. 0.0504\n",
       "4. -0.1462\n",
       "5. -0.168\n",
       "6. 0.5969\n",
       "\n",
       "\n"
      ],
      "text/plain": [
       "[1] 243.0000   0.2540   0.0504  -0.1462  -0.1680   0.5969"
      ]
     },
     "execution_count": 16,
     "metadata": {},
     "output_type": "execute_result"
    }
   ],
   "source": [
    "cr = sort(corr(\"specdata\", 129))\n",
    "n = length(cr)\n",
    "set.seed(197)                \n",
    "c(n, round(cr[sample(n, 5)], 4))"
   ]
  },
  {
   "cell_type": "code",
   "execution_count": 17,
   "metadata": {
    "collapsed": false
   },
   "outputs": [
    {
     "data": {
      "text/html": [
       "0"
      ],
      "text/latex": [
       "0"
      ],
      "text/markdown": [
       "0"
      ],
      "text/plain": [
       "[1] 0"
      ]
     },
     "execution_count": 17,
     "metadata": {},
     "output_type": "execute_result"
    },
    {
     "data": {
      "text/html": [
       "<ol class=list-inline>\n",
       "\t<li>-0.019</li>\n",
       "\t<li>0.0419</li>\n",
       "\t<li>0.1901</li>\n",
       "</ol>\n"
      ],
      "text/latex": [
       "\\begin{enumerate*}\n",
       "\\item -0.019\n",
       "\\item 0.0419\n",
       "\\item 0.1901\n",
       "\\end{enumerate*}\n"
      ],
      "text/markdown": [
       "1. -0.019\n",
       "2. 0.0419\n",
       "3. 0.1901\n",
       "\n",
       "\n"
      ],
      "text/plain": [
       "[1] -0.0190  0.0419  0.1901"
      ]
     },
     "execution_count": 17,
     "metadata": {},
     "output_type": "execute_result"
    }
   ],
   "source": [
    "length(corr(\"specdata\", 2000))\n",
    "round(sort(corr(\"specdata\", 1000)), 4)"
   ]
  }
 ],
 "metadata": {
  "kernelspec": {
   "display_name": "R",
   "language": "R",
   "name": "ir"
  },
  "language_info": {
   "codemirror_mode": "r",
   "file_extension": ".r",
   "mimetype": "text/x-r-source",
   "name": "R",
   "pygments_lexer": "r",
   "version": "3.2.2"
  }
 },
 "nbformat": 4,
 "nbformat_minor": 0
}
